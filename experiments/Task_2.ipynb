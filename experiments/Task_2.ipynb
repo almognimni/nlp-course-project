{
  "cells": [
    {
      "cell_type": "markdown",
      "id": "8909b029",
      "metadata": {
        "id": "8909b029"
      },
      "source": [
        "# Task 2: Text classification"
      ]
    },
    {
      "cell_type": "markdown",
      "id": "b118eb48",
      "metadata": {
        "id": "b118eb48"
      },
      "source": [
        "## Experiment A"
      ]
    },
    {
      "cell_type": "markdown",
      "id": "84fc369f",
      "metadata": {
        "id": "84fc369f"
      },
      "source": [
        "### Standalone setup for Task 2"
      ]
    },
    {
      "cell_type": "code",
      "source": [
        "# Fix for google colab\n",
        "!pip install --upgrade datasets fsspec\n",
        "!pip install gensim"
      ],
      "metadata": {
        "colab": {
          "base_uri": "https://localhost:8080/"
        },
        "id": "8b9HnzkpZTqs",
        "outputId": "f1be9349-b92a-4dc4-e8fb-0bc6b162f33b"
      },
      "id": "8b9HnzkpZTqs",
      "execution_count": 42,
      "outputs": [
        {
          "output_type": "stream",
          "name": "stdout",
          "text": [
            "Requirement already satisfied: datasets in /usr/local/lib/python3.11/dist-packages (3.6.0)\n",
            "Requirement already satisfied: fsspec in /usr/local/lib/python3.11/dist-packages (2025.3.0)\n",
            "Collecting fsspec\n",
            "  Using cached fsspec-2025.5.1-py3-none-any.whl.metadata (11 kB)\n",
            "Requirement already satisfied: filelock in /usr/local/lib/python3.11/dist-packages (from datasets) (3.18.0)\n",
            "Requirement already satisfied: numpy>=1.17 in /usr/local/lib/python3.11/dist-packages (from datasets) (1.26.4)\n",
            "Requirement already satisfied: pyarrow>=15.0.0 in /usr/local/lib/python3.11/dist-packages (from datasets) (18.1.0)\n",
            "Requirement already satisfied: dill<0.3.9,>=0.3.0 in /usr/local/lib/python3.11/dist-packages (from datasets) (0.3.7)\n",
            "Requirement already satisfied: pandas in /usr/local/lib/python3.11/dist-packages (from datasets) (2.2.2)\n",
            "Requirement already satisfied: requests>=2.32.2 in /usr/local/lib/python3.11/dist-packages (from datasets) (2.32.3)\n",
            "Requirement already satisfied: tqdm>=4.66.3 in /usr/local/lib/python3.11/dist-packages (from datasets) (4.67.1)\n",
            "Requirement already satisfied: xxhash in /usr/local/lib/python3.11/dist-packages (from datasets) (3.5.0)\n",
            "Requirement already satisfied: multiprocess<0.70.17 in /usr/local/lib/python3.11/dist-packages (from datasets) (0.70.15)\n",
            "Requirement already satisfied: huggingface-hub>=0.24.0 in /usr/local/lib/python3.11/dist-packages (from datasets) (0.33.0)\n",
            "Requirement already satisfied: packaging in /usr/local/lib/python3.11/dist-packages (from datasets) (24.2)\n",
            "Requirement already satisfied: pyyaml>=5.1 in /usr/local/lib/python3.11/dist-packages (from datasets) (6.0.2)\n",
            "Requirement already satisfied: aiohttp!=4.0.0a0,!=4.0.0a1 in /usr/local/lib/python3.11/dist-packages (from fsspec[http]<=2025.3.0,>=2023.1.0->datasets) (3.11.15)\n",
            "Requirement already satisfied: typing-extensions>=3.7.4.3 in /usr/local/lib/python3.11/dist-packages (from huggingface-hub>=0.24.0->datasets) (4.14.0)\n",
            "Requirement already satisfied: hf-xet<2.0.0,>=1.1.2 in /usr/local/lib/python3.11/dist-packages (from huggingface-hub>=0.24.0->datasets) (1.1.3)\n",
            "Requirement already satisfied: charset-normalizer<4,>=2 in /usr/local/lib/python3.11/dist-packages (from requests>=2.32.2->datasets) (3.4.2)\n",
            "Requirement already satisfied: idna<4,>=2.5 in /usr/local/lib/python3.11/dist-packages (from requests>=2.32.2->datasets) (3.10)\n",
            "Requirement already satisfied: urllib3<3,>=1.21.1 in /usr/local/lib/python3.11/dist-packages (from requests>=2.32.2->datasets) (2.4.0)\n",
            "Requirement already satisfied: certifi>=2017.4.17 in /usr/local/lib/python3.11/dist-packages (from requests>=2.32.2->datasets) (2025.6.15)\n",
            "Requirement already satisfied: python-dateutil>=2.8.2 in /usr/local/lib/python3.11/dist-packages (from pandas->datasets) (2.9.0.post0)\n",
            "Requirement already satisfied: pytz>=2020.1 in /usr/local/lib/python3.11/dist-packages (from pandas->datasets) (2025.2)\n",
            "Requirement already satisfied: tzdata>=2022.7 in /usr/local/lib/python3.11/dist-packages (from pandas->datasets) (2025.2)\n",
            "Requirement already satisfied: aiohappyeyeballs>=2.3.0 in /usr/local/lib/python3.11/dist-packages (from aiohttp!=4.0.0a0,!=4.0.0a1->fsspec[http]<=2025.3.0,>=2023.1.0->datasets) (2.6.1)\n",
            "Requirement already satisfied: aiosignal>=1.1.2 in /usr/local/lib/python3.11/dist-packages (from aiohttp!=4.0.0a0,!=4.0.0a1->fsspec[http]<=2025.3.0,>=2023.1.0->datasets) (1.3.2)\n",
            "Requirement already satisfied: attrs>=17.3.0 in /usr/local/lib/python3.11/dist-packages (from aiohttp!=4.0.0a0,!=4.0.0a1->fsspec[http]<=2025.3.0,>=2023.1.0->datasets) (25.3.0)\n",
            "Requirement already satisfied: frozenlist>=1.1.1 in /usr/local/lib/python3.11/dist-packages (from aiohttp!=4.0.0a0,!=4.0.0a1->fsspec[http]<=2025.3.0,>=2023.1.0->datasets) (1.7.0)\n",
            "Requirement already satisfied: multidict<7.0,>=4.5 in /usr/local/lib/python3.11/dist-packages (from aiohttp!=4.0.0a0,!=4.0.0a1->fsspec[http]<=2025.3.0,>=2023.1.0->datasets) (6.4.4)\n",
            "Requirement already satisfied: propcache>=0.2.0 in /usr/local/lib/python3.11/dist-packages (from aiohttp!=4.0.0a0,!=4.0.0a1->fsspec[http]<=2025.3.0,>=2023.1.0->datasets) (0.3.2)\n",
            "Requirement already satisfied: yarl<2.0,>=1.17.0 in /usr/local/lib/python3.11/dist-packages (from aiohttp!=4.0.0a0,!=4.0.0a1->fsspec[http]<=2025.3.0,>=2023.1.0->datasets) (1.20.1)\n",
            "Requirement already satisfied: six>=1.5 in /usr/local/lib/python3.11/dist-packages (from python-dateutil>=2.8.2->pandas->datasets) (1.17.0)\n",
            "Requirement already satisfied: gensim in /usr/local/lib/python3.11/dist-packages (4.3.3)\n",
            "Requirement already satisfied: numpy<2.0,>=1.18.5 in /usr/local/lib/python3.11/dist-packages (from gensim) (1.26.4)\n",
            "Requirement already satisfied: scipy<1.14.0,>=1.7.0 in /usr/local/lib/python3.11/dist-packages (from gensim) (1.13.1)\n",
            "Requirement already satisfied: smart-open>=1.8.1 in /usr/local/lib/python3.11/dist-packages (from gensim) (7.1.0)\n",
            "Requirement already satisfied: wrapt in /usr/local/lib/python3.11/dist-packages (from smart-open>=1.8.1->gensim) (1.17.2)\n"
          ]
        }
      ]
    },
    {
      "cell_type": "code",
      "execution_count": 43,
      "id": "9f22a00f",
      "metadata": {
        "colab": {
          "base_uri": "https://localhost:8080/"
        },
        "id": "9f22a00f",
        "outputId": "9239a17f-f8bf-48e9-9658-4f8fadd17315"
      },
      "outputs": [
        {
          "output_type": "stream",
          "name": "stdout",
          "text": [
            "Using device: cuda\n",
            "Vocabulary successfully loaded.\n",
            "Language Model state dictionary successfully loaded.\n"
          ]
        }
      ],
      "source": [
        "\n",
        "# Imports\n",
        "import textwrap\n",
        "import re\n",
        "import math\n",
        "from collections import Counter\n",
        "\n",
        "import torch\n",
        "import torch.nn as nn\n",
        "from torch.utils.data import Dataset, DataLoader\n",
        "import torch.optim as optim\n",
        "from torch.nn.utils.rnn import pad_sequence\n",
        "from datasets import load_dataset\n",
        "import numpy as np\n",
        "from tqdm import tqdm\n",
        "\n",
        "# For plotting and evaluation\n",
        "import matplotlib.pyplot as plt\n",
        "import seaborn as sns\n",
        "from sklearn.metrics import confusion_matrix, accuracy_score, precision_recall_fscore_support\n",
        "\n",
        "# For loading pre-trained word embeddings\n",
        "import gensim.downloader as api\n",
        "\n",
        "# Device Configuration\n",
        "device = torch.device('cuda' if torch.cuda.is_available() else 'cpu')\n",
        "print(f\"Using device: {device}\")\n",
        "\n",
        "\n",
        "# Essential Definitions from Task 1\n",
        "\n",
        "def simple_tokenizer(text):\n",
        "    \"\"\"A basic tokenizer that lowercases and splits text.\"\"\"\n",
        "    text = re.sub(r'[^a-zA-Z0-9\\']', ' ', text)\n",
        "    tokens = text.lower().split()\n",
        "    return tokens\n",
        "\n",
        "class Vocabulary:\n",
        "    \"\"\"Vocabulary class to map tokens to indices.\"\"\"\n",
        "    def __init__(self, min_freq=5):\n",
        "        self.itos = {0: \"<pad>\", 1: \"<unk>\"}\n",
        "        self.stoi = {\"<pad>\": 0, \"<unk>\": 1}\n",
        "        self.min_freq = min_freq\n",
        "    def __len__(self):\n",
        "        return len(self.itos)\n",
        "    def build_vocabulary(self, sentence_list):\n",
        "        token_counts = Counter()\n",
        "        for sentence in sentence_list:\n",
        "            token_counts.update(simple_tokenizer(sentence))\n",
        "        idx = 2\n",
        "        for token, count in token_counts.items():\n",
        "            if count >= self.min_freq:\n",
        "                self.stoi[token] = idx\n",
        "                self.itos[idx] = token\n",
        "                idx += 1\n",
        "\n",
        "class LanguageModel(nn.Module):\n",
        "    \"\"\"The exact same Language Model architecture from Task 1.\"\"\"\n",
        "    def __init__(self, vocab_size, embedding_dim, hidden_dim, num_layers, dropout=0.5):\n",
        "        super(LanguageModel, self).__init__()\n",
        "        self.embedding = nn.Embedding(vocab_size, embedding_dim)\n",
        "        self.lstm = nn.LSTM(\n",
        "            input_size=embedding_dim,\n",
        "            hidden_size=hidden_dim,\n",
        "            num_layers=num_layers,\n",
        "            batch_first=True,\n",
        "            dropout=dropout\n",
        "        )\n",
        "        self.fc = nn.Linear(hidden_dim, vocab_size)\n",
        "    def forward(self, x):\n",
        "        embedded = self.embedding(x)\n",
        "        lstm_out, _ = self.lstm(embedded)\n",
        "        out = self.fc(lstm_out)\n",
        "        return out\n",
        "\n",
        "\n",
        "# Load Saved Assets (Vocabulary and Model)\n",
        "\n",
        "# Load the vocabulary\n",
        "try:\n",
        "    vocab = torch.load('vocab.pth', weights_only=False)\n",
        "    print(\"Vocabulary successfully loaded.\")\n",
        "except FileNotFoundError:\n",
        "    print(\"ERROR: vocab.pth not found. Please run the save command in your Task 1 notebook.\")\n",
        "\n",
        "    assert False, \"vocab.pth not found\"\n",
        "\n",
        "# Same hyperparameters used to train the LM in Task 1\n",
        "EMBEDDING_DIM = 128\n",
        "HIDDEN_DIM = 256\n",
        "NUM_LAYERS = 2\n",
        "VOCAB_SIZE = len(vocab)\n",
        "MODEL_SAVE_PATH = 'language_model.pth'\n",
        "\n",
        "# Instantiate a new model object\n",
        "lm_model_loaded = LanguageModel(VOCAB_SIZE, EMBEDDING_DIM, HIDDEN_DIM, NUM_LAYERS).to(device)\n",
        "\n",
        "# Load the saved state dictionary\n",
        "try:\n",
        "    lm_model_loaded.load_state_dict(torch.load(MODEL_SAVE_PATH, map_location=device))\n",
        "    print(\"Language Model state dictionary successfully loaded.\")\n",
        "except FileNotFoundError:\n",
        "    print(f\"ERROR: {MODEL_SAVE_PATH} not found. Make sure the file is in the correct directory.\")\n",
        "    assert False, f\"{MODEL_SAVE_PATH} not found\""
      ]
    },
    {
      "cell_type": "markdown",
      "id": "4d44a115",
      "metadata": {
        "id": "4d44a115"
      },
      "source": [
        "### Step 1: Data preperation"
      ]
    },
    {
      "cell_type": "code",
      "execution_count": 44,
      "id": "bb5ef65b",
      "metadata": {
        "colab": {
          "base_uri": "https://localhost:8080/"
        },
        "id": "bb5ef65b",
        "outputId": "a54e5297-ce8d-44c8-9931-3d38953a3fd9"
      },
      "outputs": [
        {
          "output_type": "stream",
          "name": "stdout",
          "text": [
            "--- Classification Data Splits (Efficient Method) ---\n",
            "New Training Set Size: 4000\n",
            "New Validation Set Size: 1000\n",
            "Test Set Size: 25000\n",
            "-------------------------------------------------\n"
          ]
        }
      ],
      "source": [
        "# Prepare Data for Classification\n",
        "imdb_dataset = load_dataset('imdb')\n",
        "\n",
        "# The full 25k training data from the original IMDB load\n",
        "original_train_data = imdb_dataset['train']\n",
        "\n",
        "\n",
        "# Generate 5000 unique random indices from the 25,000 available\n",
        "total_size = len(original_train_data)\n",
        "subset_size = int(0.2 * total_size)\n",
        "np.random.seed(42) # for reproducibility\n",
        "random_indices = np.random.choice(total_size, subset_size, replace=False)\n",
        "\n",
        "# Select these random indices directly from the dataset.\n",
        "small_subset = original_train_data.select(random_indices)\n",
        "\n",
        "\n",
        "# Split this 5k subset into train (4k) and validation (1k).\n",
        "final_split = small_subset.train_test_split(\n",
        "    test_size=0.2, # 20% of 5k is 1k for validation\n",
        "    stratify_by_column='label',\n",
        "    seed=42\n",
        ")\n",
        "\n",
        "cls_train_set = final_split['train']\n",
        "cls_val_set = final_split['test']\n",
        "\n",
        "\n",
        "# The test set remains the same one we used before\n",
        "cls_test_set = imdb_dataset['test']\n",
        "\n",
        "print(\"--- Classification Data Splits (Efficient Method) ---\")\n",
        "print(f\"New Training Set Size: {len(cls_train_set)}\")\n",
        "print(f\"New Validation Set Size: {len(cls_val_set)}\")\n",
        "print(f\"Test Set Size: {len(cls_test_set)}\")\n",
        "print(\"-------------------------------------------------\")\n"
      ]
    },
    {
      "cell_type": "markdown",
      "id": "3de5ff8f",
      "metadata": {
        "id": "3de5ff8f"
      },
      "source": [
        "#### Dataset definition"
      ]
    },
    {
      "cell_type": "code",
      "execution_count": 45,
      "id": "459a04b2",
      "metadata": {
        "id": "459a04b2"
      },
      "outputs": [],
      "source": [
        "\n",
        "# Define the Dataset and Collate classes for classification\n",
        "class ClassificationDataset(Dataset):\n",
        "    def __init__(self, dataset, vocab, max_len=256):\n",
        "        self.dataset = dataset\n",
        "        self.vocab = vocab\n",
        "        self.max_len = max_len\n",
        "    def __len__(self):\n",
        "        return len(self.dataset)\n",
        "    def __getitem__(self, idx):\n",
        "        item = self.dataset[idx]\n",
        "        text, label = item['text'], item['label']\n",
        "        tokens = simple_tokenizer(text)\n",
        "        numericalized = [self.vocab.stoi.get(token, self.vocab.stoi[\"<unk>\"]) for token in tokens]\n",
        "        if len(numericalized) > self.max_len:\n",
        "            numericalized = numericalized[:self.max_len]\n",
        "        return torch.tensor(numericalized, dtype=torch.long), torch.tensor(label, dtype=torch.long) # Use long for labels\n",
        "\n",
        "class ClassificationCollate:\n",
        "    def __init__(self, pad_idx):\n",
        "        self.pad_idx = pad_idx\n",
        "    def __call__(self, batch):\n",
        "        inputs = [item[0] for item in batch]\n",
        "        labels = [item[1] for item in batch]\n",
        "        padded_inputs = pad_sequence(inputs, batch_first=True, padding_value=self.pad_idx)\n",
        "        return padded_inputs, torch.stack(labels)\n",
        "\n",
        "# Create the DataLoaders\n",
        "pad_idx = vocab.stoi[\"<pad>\"]\n",
        "BATCH_SIZE = 32\n",
        "cls_train_loader = DataLoader(ClassificationDataset(cls_train_set, vocab), batch_size=BATCH_SIZE, shuffle=True, collate_fn=ClassificationCollate(pad_idx))\n",
        "cls_val_loader = DataLoader(ClassificationDataset(cls_val_set, vocab), batch_size=BATCH_SIZE, shuffle=False, collate_fn=ClassificationCollate(pad_idx))\n",
        "cls_test_loader = DataLoader(ClassificationDataset(cls_test_set, vocab), batch_size=BATCH_SIZE, shuffle=False, collate_fn=ClassificationCollate(pad_idx))"
      ]
    },
    {
      "cell_type": "markdown",
      "id": "47f3f11c",
      "metadata": {
        "id": "47f3f11c"
      },
      "source": [
        "### Step 2: Pretrained model as backbone"
      ]
    },
    {
      "cell_type": "code",
      "execution_count": 46,
      "id": "94adc2c6",
      "metadata": {
        "colab": {
          "base_uri": "https://localhost:8080/"
        },
        "id": "94adc2c6",
        "outputId": "a7b82960-a3b6-4d0f-8d92-260f6b85e4f6"
      },
      "outputs": [
        {
          "output_type": "stream",
          "name": "stdout",
          "text": [
            "\n",
            "--- Final Classifier Model (Experiment A) ---\n",
            "SentimentClassifier(\n",
            "  (backbone): LanguageModel(\n",
            "    (embedding): Embedding(29111, 128)\n",
            "    (lstm): LSTM(128, 256, num_layers=2, batch_first=True, dropout=0.5)\n",
            "    (fc): Linear(in_features=256, out_features=29111, bias=True)\n",
            "  )\n",
            "  (classifier): Sequential(\n",
            "    (0): Linear(in_features=256, out_features=256, bias=True)\n",
            "    (1): ReLU()\n",
            "    (2): Dropout(p=0.5, inplace=False)\n",
            "    (3): Linear(in_features=256, out_features=1, bias=True)\n",
            "  )\n",
            ")\n",
            "Trainable parameters:\n",
            "backbone.embedding.weight\n",
            "classifier.0.weight\n",
            "classifier.0.bias\n",
            "classifier.3.weight\n",
            "classifier.3.bias\n"
          ]
        }
      ],
      "source": [
        "# We will Freeze the LSTM and final layer of the loaded language model\n",
        "# We do this to prevent the weights from being updated during classification training.\n",
        "\n",
        "\n",
        "# Define the classification model\n",
        "class SentimentClassifier(nn.Module):\n",
        "    def __init__(self, pretrained_lm, hidden_dim, output_dim, dropout):\n",
        "        \"\"\"\n",
        "        Initializes the classifier model.\n",
        "        Args:\n",
        "            pretrained_lm: The frozen language model from Task 1.\n",
        "            hidden_dim: The hidden dimension size of the LM's LSTM.\n",
        "            output_dim: The output size for the classifier (1 for binary).\n",
        "            n_layers: Number of layers for the new MLP classifier.\n",
        "            dropout: Dropout probability.\n",
        "        \"\"\"\n",
        "        super().__init__()\n",
        "\n",
        "        # The backbone is our frozen language model\n",
        "        self.backbone = pretrained_lm\n",
        "\n",
        "        # Freeze the LSTM and the final FC layer of the backbone\n",
        "        for param in self.backbone.lstm.parameters():\n",
        "            param.requires_grad = False\n",
        "        for param in self.backbone.fc.parameters():\n",
        "            param.requires_grad = False\n",
        "\n",
        "        # The classifier head (an MLP)\n",
        "        self.classifier = nn.Sequential(\n",
        "            nn.Linear(hidden_dim, 256),\n",
        "            nn.ReLU(),\n",
        "            nn.Dropout(dropout),\n",
        "            nn.Linear(256, output_dim)\n",
        "        )\n",
        "\n",
        "    def forward(self, x):\n",
        "\n",
        "        # Get embeddings from the backbone's embedding layer\n",
        "        embedded = self.backbone.embedding(x)\n",
        "\n",
        "        # Get word vectors from the backbone's LTSM\n",
        "        lstm_out, (hidden, cell) = self.backbone.lstm(embedded)\n",
        "\n",
        "        # Create a single sentence vector\n",
        "        # We'll use the final hidden state of the last layer (acts as a sumary of the sequence)\n",
        "        sentence_embedding = hidden[-1, :, :]\n",
        "\n",
        "        # Pass the sentence vector through the classifier head\n",
        "        prediction = self.classifier(sentence_embedding)\n",
        "\n",
        "        # Squeeze the final output to get a 1D tensor of predictions\n",
        "        return prediction.squeeze(1)\n",
        "\n",
        "\n",
        "# Define hyperparameters for the classifier head\n",
        "OUTPUT_DIM = 1\n",
        "DROPOUT = 0.5\n",
        "\n",
        "# Instantiate the final model\n",
        "classifier_model_A = SentimentClassifier(\n",
        "    pretrained_lm=lm_model_loaded,\n",
        "    hidden_dim=HIDDEN_DIM,\n",
        "    output_dim=OUTPUT_DIM,\n",
        "    dropout=DROPOUT\n",
        ").to(device)\n",
        "\n",
        "print(\"\\n--- Final Classifier Model (Experiment A) ---\")\n",
        "print(classifier_model_A)\n",
        "\n",
        "print(\"Trainable parameters:\")\n",
        "for name, param in classifier_model_A.named_parameters():\n",
        "    if param.requires_grad:\n",
        "        print(name)"
      ]
    },
    {
      "cell_type": "markdown",
      "id": "8f0778d0",
      "metadata": {
        "id": "8f0778d0"
      },
      "source": [
        "### Step 3: Training the classification model"
      ]
    },
    {
      "cell_type": "code",
      "execution_count": 47,
      "id": "9ae9a5a6",
      "metadata": {
        "id": "9ae9a5a6"
      },
      "outputs": [],
      "source": [
        "import torch.optim as optim\n",
        "\n",
        "# Define Optimizer and Loss Function\n",
        "optimizer_A = optim.Adam(\n",
        "    filter(lambda p: p.requires_grad, classifier_model_A.parameters()),\n",
        "    lr=0.001\n",
        ")\n",
        "criterion = nn.BCEWithLogitsLoss().to(device)\n",
        "\n",
        "\n",
        "# Define an accuracy calculation function\n",
        "def binary_accuracy(preds, y):\n",
        "    \"\"\"\n",
        "    Returns accuracy per batch.\n",
        "    \"\"\"\n",
        "    # Round predictions to the closest integer (0 or 1) after sigmoid\n",
        "    rounded_preds = torch.round(torch.sigmoid(preds))\n",
        "    correct = (rounded_preds == y).float() # convert into float for division\n",
        "    acc = correct.sum() / len(correct)\n",
        "    return acc\n",
        "\n",
        "\n",
        "# Define the training and evaluation loop\n",
        "def train_and_evaluate_classifier(model, train_loader, val_loader, optimizer, criterion, device, epochs=10):\n",
        "\n",
        "    # Lists to store metrics for plotting\n",
        "    history = {\n",
        "        'train_loss': [], 'train_acc': [],\n",
        "        'val_loss': [], 'val_acc': []\n",
        "    }\n",
        "\n",
        "    print(\"--- Starting Classifier Training ---\")\n",
        "    for epoch in range(epochs):\n",
        "        # --- Training Phase ---\n",
        "        model.train()\n",
        "        epoch_train_loss = 0\n",
        "        epoch_train_acc = 0\n",
        "\n",
        "        for batch in tqdm(train_loader, desc=f\"Epoch {epoch+1}/{epochs} [Training]\"):\n",
        "            inputs, labels = [t.to(device) for t in batch]\n",
        "\n",
        "            optimizer.zero_grad()\n",
        "\n",
        "            predictions = model(inputs)\n",
        "\n",
        "            loss = criterion(predictions, labels.float())\n",
        "            acc = binary_accuracy(predictions, labels)\n",
        "\n",
        "            loss.backward()\n",
        "            optimizer.step()\n",
        "\n",
        "            epoch_train_loss += loss.item()\n",
        "            epoch_train_acc += acc.item()\n",
        "\n",
        "        avg_train_loss = epoch_train_loss / len(train_loader)\n",
        "        avg_train_acc = epoch_train_acc / len(train_loader)\n",
        "\n",
        "        # --- Validation Phase ---\n",
        "        model.eval()\n",
        "        epoch_val_loss = 0\n",
        "        epoch_val_acc = 0\n",
        "\n",
        "        with torch.no_grad():\n",
        "            for batch in tqdm(val_loader, desc=f\"Epoch {epoch+1}/{epochs} [Validation]\"):\n",
        "                inputs, labels = [t.to(device) for t in batch]\n",
        "\n",
        "                predictions = model(inputs)\n",
        "\n",
        "                loss = criterion(predictions, labels.float())\n",
        "                acc = binary_accuracy(predictions, labels)\n",
        "\n",
        "                epoch_val_loss += loss.item()\n",
        "                epoch_val_acc += acc.item()\n",
        "\n",
        "        avg_val_loss = epoch_val_loss / len(val_loader)\n",
        "        avg_val_acc = epoch_val_acc / len(val_loader)\n",
        "\n",
        "        # Store metrics\n",
        "        history['train_loss'].append(avg_train_loss)\n",
        "        history['train_acc'].append(avg_train_acc)\n",
        "        history['val_loss'].append(avg_val_loss)\n",
        "        history['val_acc'].append(avg_val_acc)\n",
        "\n",
        "        print(f'Epoch {epoch+1:02}: | Train Loss: {avg_train_loss:.3f} | Train Acc: {avg_train_acc*100:.2f}%')\n",
        "        print(f'             | Val. Loss: {avg_val_loss:.3f} | Val. Acc: {avg_val_acc*100:.2f}%')\n",
        "\n",
        "    print(\"--- Finished Training ---\")\n",
        "    return history\n"
      ]
    },
    {
      "cell_type": "code",
      "execution_count": 48,
      "id": "37a8dac6",
      "metadata": {
        "colab": {
          "base_uri": "https://localhost:8080/"
        },
        "id": "37a8dac6",
        "outputId": "cd612926-635f-461d-e0c7-cbd9c4d47985"
      },
      "outputs": [
        {
          "output_type": "stream",
          "name": "stdout",
          "text": [
            "--- Starting Classifier Training ---\n"
          ]
        },
        {
          "output_type": "stream",
          "name": "stderr",
          "text": [
            "Epoch 1/7 [Training]: 100%|██████████| 125/125 [00:06<00:00, 18.19it/s]\n",
            "Epoch 1/7 [Validation]: 100%|██████████| 32/32 [00:01<00:00, 26.14it/s]\n"
          ]
        },
        {
          "output_type": "stream",
          "name": "stdout",
          "text": [
            "Epoch 01: | Train Loss: 0.697 | Train Acc: 50.75%\n",
            "             | Val. Loss: 0.689 | Val. Acc: 50.49%\n"
          ]
        },
        {
          "output_type": "stream",
          "name": "stderr",
          "text": [
            "Epoch 2/7 [Training]: 100%|██████████| 125/125 [00:08<00:00, 15.19it/s]\n",
            "Epoch 2/7 [Validation]: 100%|██████████| 32/32 [00:01<00:00, 24.72it/s]\n"
          ]
        },
        {
          "output_type": "stream",
          "name": "stdout",
          "text": [
            "Epoch 02: | Train Loss: 0.682 | Train Acc: 55.45%\n",
            "             | Val. Loss: 0.667 | Val. Acc: 60.84%\n"
          ]
        },
        {
          "output_type": "stream",
          "name": "stderr",
          "text": [
            "Epoch 3/7 [Training]: 100%|██████████| 125/125 [00:03<00:00, 33.05it/s]\n",
            "Epoch 3/7 [Validation]: 100%|██████████| 32/32 [00:00<00:00, 62.44it/s]\n"
          ]
        },
        {
          "output_type": "stream",
          "name": "stdout",
          "text": [
            "Epoch 03: | Train Loss: 0.632 | Train Acc: 64.18%\n",
            "             | Val. Loss: 0.622 | Val. Acc: 66.31%\n"
          ]
        },
        {
          "output_type": "stream",
          "name": "stderr",
          "text": [
            "Epoch 4/7 [Training]: 100%|██████████| 125/125 [00:03<00:00, 33.65it/s]\n",
            "Epoch 4/7 [Validation]: 100%|██████████| 32/32 [00:00<00:00, 61.69it/s]\n"
          ]
        },
        {
          "output_type": "stream",
          "name": "stdout",
          "text": [
            "Epoch 04: | Train Loss: 0.544 | Train Acc: 73.22%\n",
            "             | Val. Loss: 0.592 | Val. Acc: 70.51%\n"
          ]
        },
        {
          "output_type": "stream",
          "name": "stderr",
          "text": [
            "Epoch 5/7 [Training]: 100%|██████████| 125/125 [00:04<00:00, 30.59it/s]\n",
            "Epoch 5/7 [Validation]: 100%|██████████| 32/32 [00:00<00:00, 63.37it/s]\n"
          ]
        },
        {
          "output_type": "stream",
          "name": "stdout",
          "text": [
            "Epoch 05: | Train Loss: 0.447 | Train Acc: 79.83%\n",
            "             | Val. Loss: 0.583 | Val. Acc: 73.24%\n"
          ]
        },
        {
          "output_type": "stream",
          "name": "stderr",
          "text": [
            "Epoch 6/7 [Training]: 100%|██████████| 125/125 [00:03<00:00, 34.74it/s]\n",
            "Epoch 6/7 [Validation]: 100%|██████████| 32/32 [00:00<00:00, 63.36it/s]\n"
          ]
        },
        {
          "output_type": "stream",
          "name": "stdout",
          "text": [
            "Epoch 06: | Train Loss: 0.366 | Train Acc: 84.78%\n",
            "             | Val. Loss: 0.598 | Val. Acc: 75.98%\n"
          ]
        },
        {
          "output_type": "stream",
          "name": "stderr",
          "text": [
            "Epoch 7/7 [Training]: 100%|██████████| 125/125 [00:03<00:00, 34.83it/s]\n",
            "Epoch 7/7 [Validation]: 100%|██████████| 32/32 [00:00<00:00, 57.50it/s]"
          ]
        },
        {
          "output_type": "stream",
          "name": "stdout",
          "text": [
            "Epoch 07: | Train Loss: 0.277 | Train Acc: 89.48%\n",
            "             | Val. Loss: 0.574 | Val. Acc: 77.64%\n",
            "--- Finished Training ---\n"
          ]
        },
        {
          "output_type": "stream",
          "name": "stderr",
          "text": [
            "\n"
          ]
        }
      ],
      "source": [
        "\n",
        "# Run the training\n",
        "history_A = train_and_evaluate_classifier(\n",
        "    classifier_model_A,\n",
        "    cls_train_loader,\n",
        "    cls_val_loader,\n",
        "    optimizer_A,\n",
        "    criterion,\n",
        "    device,\n",
        "    epochs=7\n",
        ")"
      ]
    },
    {
      "cell_type": "code",
      "execution_count": 49,
      "id": "0390ac89",
      "metadata": {
        "colab": {
          "base_uri": "https://localhost:8080/",
          "height": 436
        },
        "id": "0390ac89",
        "outputId": "b4454a85-0db3-4868-8fa5-c65493f55202"
      },
      "outputs": [
        {
          "output_type": "display_data",
          "data": {
            "text/plain": [
              "<Figure size 1500x600 with 2 Axes>"
            ],
            "image/png": "[encoded data removed]"
          },
          "metadata": {}
        }
      ],
      "source": [
        "# Plot the training and validation loss and accuracy\n",
        "def plot_classifier_history(history):\n",
        "    \"\"\"\n",
        "    Plots training and validation loss and accuracy from a history dictionary.\n",
        "    \"\"\"\n",
        "    fig, (ax1, ax2) = plt.subplots(1, 2, figsize=(15, 6))\n",
        "\n",
        "    # Plot Loss\n",
        "    ax1.plot(history['train_loss'], label='Train Loss', color='blue')\n",
        "    ax1.plot(history['val_loss'], label='Validation Loss', color='red')\n",
        "    ax1.set_title('Loss Over Epochs')\n",
        "    ax1.set_xlabel('Epochs')\n",
        "    ax1.set_ylabel('Loss')\n",
        "    ax1.legend()\n",
        "    ax1.grid(True)\n",
        "\n",
        "    # Plot Accuracy\n",
        "    ax2.plot(history['train_acc'], label='Train Accuracy', color='blue')\n",
        "    ax2.plot(history['val_acc'], label='Validation Accuracy', color='red')\n",
        "    ax2.set_title('Accuracy Over Epochs')\n",
        "    ax2.set_xlabel('Epochs')\n",
        "    ax2.set_ylabel('Accuracy')\n",
        "    ax2.legend()\n",
        "    ax2.grid(True)\n",
        "\n",
        "    plt.tight_layout()\n",
        "    plt.show()\n",
        "\n",
        "\n",
        "plot_classifier_history(history_A)"
      ]
    },
    {
      "cell_type": "markdown",
      "id": "78f6430e",
      "metadata": {
        "id": "78f6430e"
      },
      "source": [
        "### Step 4: Evaluation"
      ]
    },
    {
      "cell_type": "code",
      "execution_count": 61,
      "id": "65081878",
      "metadata": {
        "colab": {
          "base_uri": "https://localhost:8080/",
          "height": 709
        },
        "id": "65081878",
        "outputId": "e8add1db-a2c6-4b08-84bc-7f311184607f"
      },
      "outputs": [
        {
          "output_type": "stream",
          "name": "stderr",
          "text": [
            "Evaluating on Test Set: 100%|██████████| 782/782 [00:17<00:00, 45.84it/s]\n"
          ]
        },
        {
          "output_type": "stream",
          "name": "stdout",
          "text": [
            "\n",
            "--- Final Test Set Evaluation ---\n",
            "Test Loss: 0.575\n",
            "Test Accuracy: 77.16%\n",
            "Test Precision: 0.760\n",
            "Test Recall: 0.794\n",
            "Test F1-Score: 0.777\n"
          ]
        },
        {
          "output_type": "display_data",
          "data": {
            "text/plain": [
              "<Figure size 800x600 with 2 Axes>"
            ],
            "image/png": "[encoded data removed]"
          },
          "metadata": {}
        }
      ],
      "source": [
        "def evaluate_on_test_set(model, test_loader, criterion, device):\n",
        "    \"\"\"\n",
        "    Evaluates the final model on the test set and returns metrics\n",
        "    and predictions for confusion matrix and error analysis.\n",
        "    \"\"\"\n",
        "    model.eval()\n",
        "\n",
        "    all_preds = []\n",
        "    all_labels = []\n",
        "\n",
        "    total_loss = 0\n",
        "\n",
        "    with torch.no_grad():\n",
        "        for batch in tqdm(test_loader, desc=\"Evaluating on Test Set\"):\n",
        "            inputs, labels = [t.to(device) for t in batch]\n",
        "\n",
        "            predictions = model(inputs)\n",
        "\n",
        "            # Calculate loss\n",
        "            loss = criterion(predictions, labels.float())\n",
        "            total_loss += loss.item()\n",
        "\n",
        "            # Get final predictions (0 or 1)\n",
        "            rounded_preds = torch.round(torch.sigmoid(predictions))\n",
        "\n",
        "            all_preds.extend(rounded_preds.cpu().numpy())\n",
        "            all_labels.extend(labels.cpu().numpy())\n",
        "\n",
        "    avg_loss = total_loss / len(test_loader)\n",
        "\n",
        "    # Calculate metrics\n",
        "    accuracy = accuracy_score(all_labels, all_preds)\n",
        "    precision, recall, f1, _ = precision_recall_fscore_support(all_labels, all_preds, average='binary')\n",
        "\n",
        "    print(\"\\n--- Final Test Set Evaluation ---\")\n",
        "    print(f\"Test Loss: {avg_loss:.3f}\")\n",
        "    print(f\"Test Accuracy: {accuracy*100:.2f}%\")\n",
        "    print(f\"Test Precision: {precision:.3f}\")\n",
        "    print(f\"Test Recall: {recall:.3f}\")\n",
        "    print(f\"Test F1-Score: {f1:.3f}\")\n",
        "\n",
        "    return all_labels, all_preds\n",
        "\n",
        "# Get predictions for confusion matrix\n",
        "true_labels, predicted_labels = evaluate_on_test_set(classifier_model_A, cls_test_loader, criterion, device)\n",
        "\n",
        "# Plot Confusion Matrix\n",
        "cm = confusion_matrix(true_labels, predicted_labels)\n",
        "plt.figure(figsize=(8, 6))\n",
        "sns.heatmap(cm, annot=True, fmt='d', cmap='Blues',\n",
        "            xticklabels=['Negative', 'Positive'],\n",
        "            yticklabels=['Negative', 'Positive'])\n",
        "plt.title('Confusion Matrix (Experiment A)')\n",
        "plt.ylabel('Actual Label')\n",
        "plt.xlabel('Predicted Label')\n",
        "plt.show()"
      ]
    },
    {
      "cell_type": "markdown",
      "id": "353d19e2",
      "metadata": {
        "id": "353d19e2"
      },
      "source": [
        "#### Error analysis\n",
        "We'll look at examples where the model's prediction was wrong"
      ]
    },
    {
      "cell_type": "code",
      "execution_count": 51,
      "id": "3f90b343",
      "metadata": {
        "colab": {
          "base_uri": "https://localhost:8080/"
        },
        "id": "3f90b343",
        "outputId": "87ced745-bab4-433b-bb12-ce35402330ee"
      },
      "outputs": [
        {
          "output_type": "stream",
          "name": "stdout",
          "text": [
            "--- Error Analysis: Searching for failed examples to save to 'error_analysis_A.txt' ---\n",
            "Error analysis report successfully saved to 'error_analysis_A.txt'.\n"
          ]
        }
      ],
      "source": [
        "def run_error_analysis_to_file(model, raw_test_set, vocab, device, filename='error_analysis_A.txt', max_len=256, num_examples=5):\n",
        "    \"\"\"\n",
        "    Finds incorrect predictions and saves them to a well-formatted text file.\n",
        "    (Final version with paragraph wrapping for readability).\n",
        "    \"\"\"\n",
        "    model.eval()\n",
        "\n",
        "    false_positives = []\n",
        "    false_negatives = []\n",
        "\n",
        "    print(f\"--- Error Analysis: Searching for failed examples to save to '{filename}' ---\")\n",
        "\n",
        "    # This part remains the same: find the examples\n",
        "    for item in raw_test_set:\n",
        "        text, true_label = item['text'], item['label']\n",
        "\n",
        "        tokens = simple_tokenizer(text)\n",
        "        numericalized = [vocab.stoi.get(t, vocab.stoi.get('<unk>')) for t in tokens][:max_len]\n",
        "        input_tensor = torch.tensor([numericalized], dtype=torch.long).to(device)\n",
        "\n",
        "        with torch.no_grad():\n",
        "            prediction_logit = model(input_tensor)\n",
        "            predicted_label = torch.round(torch.sigmoid(prediction_logit)).item()\n",
        "\n",
        "        if predicted_label != true_label:\n",
        "            if predicted_label == 1:\n",
        "                if len(false_positives) < num_examples:\n",
        "                    false_positives.append({'text': text, 'true': true_label, 'pred': int(predicted_label)})\n",
        "            else:\n",
        "                if len(false_negatives) < num_examples:\n",
        "                    false_negatives.append({'text': text, 'true': true_label, 'pred': int(predicted_label)})\n",
        "\n",
        "        if len(false_positives) >= num_examples and len(false_negatives) >= num_examples:\n",
        "            break\n",
        "\n",
        "    # Write the examples to a file\n",
        "    try:\n",
        "        with open(filename, 'w', encoding='utf-8') as f:\n",
        "            f.write(\"Error Analysis Report for Experiment A\\n\")\n",
        "            f.write(\"=\"*40 + \"\\n\\n\")\n",
        "\n",
        "            f.write(\"--- Examples of False Positives (Predicted Positive, Was Negative) ---\\n\\n\")\n",
        "            if not false_positives:\n",
        "                f.write(\"None found.\\n\\n\")\n",
        "            else:\n",
        "                for i, ex in enumerate(false_positives):\n",
        "                    # Wrap the long line of text into a paragraph with an 80-character width\n",
        "                    wrapped_text = textwrap.fill(ex['text'], width=80)\n",
        "\n",
        "                    f.write(f\"--- False Positive Example #{i+1} ---\\n\")\n",
        "                    f.write(f\"True Label: {ex['true']}\\n\")\n",
        "                    f.write(f\"Predicted Label: {ex['pred']}\\n\")\n",
        "                    f.write(\"Full Text:\\n\")\n",
        "                    f.write(f\"{wrapped_text}\\n\\n\") # Write the formatted paragraph\n",
        "                    f.write(\"=\"*40 + \"\\n\\n\")\n",
        "\n",
        "            f.write(\"--- Examples of False Negatives (Predicted Negative, Was Positive) ---\\n\\n\")\n",
        "            if not false_negatives:\n",
        "                f.write(\"None found.\\n\\n\")\n",
        "            else:\n",
        "                for i, ex in enumerate(false_negatives):\n",
        "                    wrapped_text = textwrap.fill(ex['text'], width=80)\n",
        "\n",
        "                    f.write(f\"--- False Negative Example #{i+1} ---\\n\")\n",
        "                    f.write(f\"True Label: {ex['true']}\\n\")\n",
        "                    f.write(f\"Predicted Label: {ex['pred']}\\n\")\n",
        "                    f.write(\"Full Text:\\n\")\n",
        "                    f.write(f\"{wrapped_text}\\n\\n\")\n",
        "                    f.write(\"=\"*40 + \"\\n\\n\")\n",
        "\n",
        "        print(f\"Error analysis report successfully saved to '{filename}'.\")\n",
        "\n",
        "    except Exception as e:\n",
        "        print(f\"An error occurred while writing to file: {e}\")\n",
        "\n",
        "run_error_analysis_to_file(classifier_model_A, cls_test_set, vocab, device)"
      ]
    },
    {
      "cell_type": "code",
      "source": [
        "# Save model\n",
        "torch.save(classifier_model_A.state_dict(), 'classifier_model_A.pth')"
      ],
      "metadata": {
        "id": "cEEhpFW9oW1d"
      },
      "id": "cEEhpFW9oW1d",
      "execution_count": 52,
      "outputs": []
    },
    {
      "cell_type": "markdown",
      "id": "64d56298",
      "metadata": {
        "id": "64d56298"
      },
      "source": [
        "## Experiment B"
      ]
    },
    {
      "cell_type": "markdown",
      "id": "6323479e",
      "metadata": {
        "id": "6323479e"
      },
      "source": [
        "### Step 1: Data preperation\n",
        "- Training Data: We will use the full 25,000 samples from the original training set, splitting them into a new training and validation set.\n",
        "- Test Data: The test set remains the same one used in Experiment A for a fair comparison.\n",
        "\n",
        "We will reuse the ClassificationDataset and ClassificationCollate classes we defined in experiment A.\n",
        "\n"
      ]
    },
    {
      "cell_type": "code",
      "execution_count": 53,
      "id": "885a17af",
      "metadata": {
        "colab": {
          "base_uri": "https://localhost:8080/"
        },
        "id": "885a17af",
        "outputId": "b2cc23e4-3d89-454f-dd54-3adb361eeeb8"
      },
      "outputs": [
        {
          "output_type": "stream",
          "name": "stdout",
          "text": [
            "--- Data Splits for Experiment B ---\n",
            "New Training Set Size: 20000\n",
            "New Validation Set Size: 5000\n"
          ]
        }
      ],
      "source": [
        "# The full 25k training data from the original IMDB load\n",
        "original_train_data = imdb_dataset['train']\n",
        "\n",
        "# --- Create New Splits for Experiment B ---\n",
        "# We will use the full 25k training samples, split into 80% train and 20% validation\n",
        "full_train_split = original_train_data.train_test_split(\n",
        "    test_size=0.2, # 20% for validation (5k), 80% for training (20k)\n",
        "    stratify_by_column='label',\n",
        "    seed=42\n",
        ")\n",
        "\n",
        "cls_train_set_B = full_train_split['train']\n",
        "cls_val_set_B = full_train_split['test']\n",
        "\n",
        "print(\"--- Data Splits for Experiment B ---\")\n",
        "print(f\"New Training Set Size: {len(cls_train_set_B)}\")\n",
        "print(f\"New Validation Set Size: {len(cls_val_set_B)}\")\n",
        "\n",
        "# Create the Dataset objects for Experiment B\n",
        "train_dataset_B = ClassificationDataset(cls_train_set_B, vocab) # We'll build a new vocab next\n",
        "val_dataset_B = ClassificationDataset(cls_val_set_B, vocab)\n",
        "\n",
        "# We will create new DataLoaders after we handle the new vocabulary and embeddings."
      ]
    },
    {
      "cell_type": "markdown",
      "id": "e5d4f962",
      "metadata": {
        "id": "e5d4f962"
      },
      "source": [
        "### Step 2: Loading Pre-trained Word2Vec model"
      ]
    },
    {
      "cell_type": "code",
      "execution_count": 54,
      "id": "94c0cc60",
      "metadata": {
        "colab": {
          "base_uri": "https://localhost:8080/"
        },
        "id": "94c0cc60",
        "outputId": "419eb73c-61f3-440b-f748-8c9ac872c98a"
      },
      "outputs": [
        {
          "output_type": "stream",
          "name": "stdout",
          "text": [
            "Downloading Word2Vec model... This may take a few minutes.\n",
            "[==================================================] 100.0% 1662.8/1662.8MB downloaded\n",
            "Word2Vec model loaded.\n",
            "Building vocabulary for Experiment B...\n",
            "Populating embedding matrix from Word2Vec...\n"
          ]
        },
        {
          "output_type": "stream",
          "name": "stderr",
          "text": [
            "100%|██████████| 27395/27395 [00:00<00:00, 137554.96it/s]"
          ]
        },
        {
          "output_type": "stream",
          "name": "stdout",
          "text": [
            "Embedding matrix created. Out-of-vocabulary words: 4907\n"
          ]
        },
        {
          "output_type": "stream",
          "name": "stderr",
          "text": [
            "\n"
          ]
        }
      ],
      "source": [
        "# Load Pre-trained Word2Vec Model\n",
        "print(\"Downloading Word2Vec model... This may take a few minutes.\")\n",
        "word2vec_model = api.load('word2vec-google-news-300')\n",
        "print(\"Word2Vec model loaded.\")\n",
        "\n",
        "# Align Word2Vec with Our Dataset's Vocabulary\n",
        "\n",
        "# First, build a new vocabulary based on our full training set for Experiment B\n",
        "print(\"Building vocabulary for Experiment B...\")\n",
        "vocab_B = Vocabulary(min_freq=5)\n",
        "train_texts_B = [example['text'] for example in cls_train_set_B]\n",
        "vocab_B.build_vocabulary(train_texts_B)\n",
        "VOCAB_SIZE_B = len(vocab_B)\n",
        "EMBEDDING_DIM_B = word2vec_model.vector_size\n",
        "\n",
        "# Create an embedding matrix to hold the vectors\n",
        "embedding_matrix_B = np.zeros((VOCAB_SIZE_B, EMBEDDING_DIM_B))\n",
        "oov_count = 0 # Out-of-vocabulary word count\n",
        "\n",
        "# Fill the matrix with vectors from Word2Vec\n",
        "print(\"Populating embedding matrix from Word2Vec...\")\n",
        "for word, idx in tqdm(vocab_B.stoi.items()):\n",
        "    if word in word2vec_model:\n",
        "        embedding_matrix_B[idx] = word2vec_model[word]\n",
        "    else:\n",
        "        # For words not in Word2Vec's vocabulary, we leave them as zeros\n",
        "        oov_count += 1\n",
        "\n",
        "print(f\"Embedding matrix created. Out-of-vocabulary words: {oov_count}\")\n",
        "\n",
        "# Convert the NumPy matrix to a PyTorch tensor\n",
        "embedding_matrix_B = torch.tensor(embedding_matrix_B, dtype=torch.float)"
      ]
    },
    {
      "cell_type": "markdown",
      "id": "db8f6cbd",
      "metadata": {
        "id": "db8f6cbd"
      },
      "source": [
        "### Step 3: Define and train the classification model"
      ]
    },
    {
      "cell_type": "code",
      "execution_count": 55,
      "id": "aa6e37ad",
      "metadata": {
        "colab": {
          "base_uri": "https://localhost:8080/"
        },
        "id": "aa6e37ad",
        "outputId": "72097d6d-67ad-43c0-8466-b3a3785b791a"
      },
      "outputs": [
        {
          "output_type": "stream",
          "name": "stdout",
          "text": [
            "\n",
            "--- Classifier Model (Experiment B) ---\n",
            "SentimentClassifierW2V(\n",
            "  (embedding): Embedding(27395, 300, padding_idx=0)\n",
            "  (lstm): LSTM(300, 256, num_layers=2, batch_first=True, dropout=0.5, bidirectional=True)\n",
            "  (fc): Linear(in_features=512, out_features=1, bias=True)\n",
            "  (dropout): Dropout(p=0.5, inplace=False)\n",
            ")\n",
            "The model has 2,720,257 trainable parameters.\n"
          ]
        }
      ],
      "source": [
        "class SentimentClassifierW2V(nn.Module):\n",
        "    def __init__(self, embedding_matrix, hidden_dim, output_dim, n_layers, dropout):\n",
        "        super().__init__()\n",
        "\n",
        "        vocab_size, embedding_dim = embedding_matrix.shape\n",
        "\n",
        "        # The embedding layer is initialized with our W2V matrix\n",
        "        self.embedding = nn.Embedding.from_pretrained(\n",
        "            embedding_matrix,\n",
        "            freeze=True, # Freeze the layer so W2V vectors are not updated\n",
        "            padding_idx=vocab_B.stoi['<pad>']\n",
        "        )\n",
        "\n",
        "        # An LSTM layer to learn sequence patterns (this will be trained)\n",
        "        self.lstm = nn.LSTM(\n",
        "            input_size=embedding_dim,\n",
        "            hidden_size=hidden_dim,\n",
        "            num_layers=n_layers,\n",
        "            batch_first=True,\n",
        "            bidirectional=True,\n",
        "            dropout=dropout if n_layers > 1 else 0\n",
        "        )\n",
        "\n",
        "        # The final classifier head (this will be trained)\n",
        "        self.fc = nn.Linear(hidden_dim * 2, output_dim) # Times 2 because bidirectional\n",
        "        self.dropout = nn.Dropout(dropout)\n",
        "\n",
        "    def forward(self, text):\n",
        "        embedded = self.embedding(text)\n",
        "\n",
        "        # Apply dropout to the embeddings\n",
        "        embedded = self.dropout(embedded)\n",
        "\n",
        "        # Pass embeddings to LSTM\n",
        "        packed_output, (hidden, cell) = self.lstm(embedded)\n",
        "\n",
        "        # Concatenate the final forward and backward hidden states\n",
        "        hidden = self.dropout(torch.cat((hidden[-2,:,:], hidden[-1,:,:]), dim=1))\n",
        "\n",
        "        return self.fc(hidden).squeeze(1)\n",
        "\n",
        "# Instantiate the Model B and DataLoaders\n",
        "\n",
        "# Re-create the Datasets with the new vocabulary\n",
        "train_dataset_B = ClassificationDataset(cls_train_set_B, vocab_B)\n",
        "val_dataset_B = ClassificationDataset(cls_val_set_B, vocab_B)\n",
        "test_dataset_B = ClassificationDataset(cls_test_set, vocab_B) # Use the same test set\n",
        "\n",
        "# Create the DataLoaders\n",
        "pad_idx_B = vocab_B.stoi[\"<pad>\"]\n",
        "BATCH_SIZE_B = 64 # Can use a larger batch size\n",
        "cls_train_loader_B = DataLoader(train_dataset_B, batch_size=BATCH_SIZE_B, shuffle=True, collate_fn=ClassificationCollate(pad_idx_B))\n",
        "cls_val_loader_B = DataLoader(val_dataset_B, batch_size=BATCH_SIZE_B, shuffle=False, collate_fn=ClassificationCollate(pad_idx_B))\n",
        "cls_test_loader_B = DataLoader(test_dataset_B, batch_size=BATCH_SIZE_B, shuffle=False, collate_fn=ClassificationCollate(pad_idx_B))\n",
        "\n",
        "\n",
        "# Instantiate the model\n",
        "HIDDEN_DIM_B = 256\n",
        "OUTPUT_DIM_B = 1\n",
        "N_LAYERS_B = 2\n",
        "DROPOUT_B = 0.5\n",
        "\n",
        "classifier_model_B = SentimentClassifierW2V(\n",
        "    embedding_matrix_B,\n",
        "    HIDDEN_DIM_B,\n",
        "    OUTPUT_DIM_B,\n",
        "    N_LAYERS_B,\n",
        "    DROPOUT_B\n",
        ").to(device)\n",
        "\n",
        "print(\"\\n--- Classifier Model (Experiment B) ---\")\n",
        "print(classifier_model_B)\n",
        "print(f\"The model has {sum(p.numel() for p in classifier_model_B.parameters() if p.requires_grad):,} trainable parameters.\")"
      ]
    },
    {
      "cell_type": "code",
      "execution_count": 56,
      "id": "098a8783",
      "metadata": {
        "colab": {
          "base_uri": "https://localhost:8080/"
        },
        "id": "098a8783",
        "outputId": "a300b2d7-1fe1-45b3-f0cf-65ca748dcde3"
      },
      "outputs": [
        {
          "output_type": "stream",
          "name": "stdout",
          "text": [
            "--- Starting Classifier Training ---\n"
          ]
        },
        {
          "output_type": "stream",
          "name": "stderr",
          "text": [
            "Epoch 1/10 [Training]: 100%|██████████| 313/313 [00:41<00:00,  7.49it/s]\n",
            "Epoch 1/10 [Validation]: 100%|██████████| 79/79 [00:04<00:00, 18.67it/s]\n"
          ]
        },
        {
          "output_type": "stream",
          "name": "stdout",
          "text": [
            "Epoch 01: | Train Loss: 0.682 | Train Acc: 56.55%\n",
            "             | Val. Loss: 0.681 | Val. Acc: 52.22%\n"
          ]
        },
        {
          "output_type": "stream",
          "name": "stderr",
          "text": [
            "Epoch 2/10 [Training]: 100%|██████████| 313/313 [00:38<00:00,  8.21it/s]\n",
            "Epoch 2/10 [Validation]: 100%|██████████| 79/79 [00:03<00:00, 19.88it/s]\n"
          ]
        },
        {
          "output_type": "stream",
          "name": "stdout",
          "text": [
            "Epoch 02: | Train Loss: 0.672 | Train Acc: 58.90%\n",
            "             | Val. Loss: 0.621 | Val. Acc: 67.31%\n"
          ]
        },
        {
          "output_type": "stream",
          "name": "stderr",
          "text": [
            "Epoch 3/10 [Training]: 100%|██████████| 313/313 [00:38<00:00,  8.18it/s]\n",
            "Epoch 3/10 [Validation]: 100%|██████████| 79/79 [00:04<00:00, 18.61it/s]\n"
          ]
        },
        {
          "output_type": "stream",
          "name": "stdout",
          "text": [
            "Epoch 03: | Train Loss: 0.652 | Train Acc: 62.33%\n",
            "             | Val. Loss: 0.631 | Val. Acc: 68.99%\n"
          ]
        },
        {
          "output_type": "stream",
          "name": "stderr",
          "text": [
            "Epoch 4/10 [Training]: 100%|██████████| 313/313 [00:38<00:00,  8.18it/s]\n",
            "Epoch 4/10 [Validation]: 100%|██████████| 79/79 [00:03<00:00, 19.93it/s]\n"
          ]
        },
        {
          "output_type": "stream",
          "name": "stdout",
          "text": [
            "Epoch 04: | Train Loss: 0.640 | Train Acc: 64.08%\n",
            "             | Val. Loss: 0.622 | Val. Acc: 66.75%\n"
          ]
        },
        {
          "output_type": "stream",
          "name": "stderr",
          "text": [
            "Epoch 5/10 [Training]: 100%|██████████| 313/313 [00:38<00:00,  8.17it/s]\n",
            "Epoch 5/10 [Validation]: 100%|██████████| 79/79 [00:04<00:00, 18.67it/s]\n"
          ]
        },
        {
          "output_type": "stream",
          "name": "stdout",
          "text": [
            "Epoch 05: | Train Loss: 0.587 | Train Acc: 70.51%\n",
            "             | Val. Loss: 0.524 | Val. Acc: 75.85%\n"
          ]
        },
        {
          "output_type": "stream",
          "name": "stderr",
          "text": [
            "Epoch 6/10 [Training]: 100%|██████████| 313/313 [00:38<00:00,  8.19it/s]\n",
            "Epoch 6/10 [Validation]: 100%|██████████| 79/79 [00:03<00:00, 20.11it/s]\n"
          ]
        },
        {
          "output_type": "stream",
          "name": "stdout",
          "text": [
            "Epoch 06: | Train Loss: 0.484 | Train Acc: 77.70%\n",
            "             | Val. Loss: 0.380 | Val. Acc: 83.39%\n"
          ]
        },
        {
          "output_type": "stream",
          "name": "stderr",
          "text": [
            "Epoch 7/10 [Training]: 100%|██████████| 313/313 [00:38<00:00,  8.18it/s]\n",
            "Epoch 7/10 [Validation]: 100%|██████████| 79/79 [00:04<00:00, 18.70it/s]\n"
          ]
        },
        {
          "output_type": "stream",
          "name": "stdout",
          "text": [
            "Epoch 07: | Train Loss: 0.388 | Train Acc: 83.50%\n",
            "             | Val. Loss: 0.339 | Val. Acc: 84.93%\n"
          ]
        },
        {
          "output_type": "stream",
          "name": "stderr",
          "text": [
            "Epoch 8/10 [Training]: 100%|██████████| 313/313 [00:38<00:00,  8.19it/s]\n",
            "Epoch 8/10 [Validation]: 100%|██████████| 79/79 [00:03<00:00, 20.01it/s]\n"
          ]
        },
        {
          "output_type": "stream",
          "name": "stdout",
          "text": [
            "Epoch 08: | Train Loss: 0.353 | Train Acc: 85.24%\n",
            "             | Val. Loss: 0.312 | Val. Acc: 86.71%\n"
          ]
        },
        {
          "output_type": "stream",
          "name": "stderr",
          "text": [
            "Epoch 9/10 [Training]: 100%|██████████| 313/313 [00:38<00:00,  8.19it/s]\n",
            "Epoch 9/10 [Validation]: 100%|██████████| 79/79 [00:04<00:00, 18.78it/s]\n"
          ]
        },
        {
          "output_type": "stream",
          "name": "stdout",
          "text": [
            "Epoch 09: | Train Loss: 0.334 | Train Acc: 85.98%\n",
            "             | Val. Loss: 0.304 | Val. Acc: 87.28%\n"
          ]
        },
        {
          "output_type": "stream",
          "name": "stderr",
          "text": [
            "Epoch 10/10 [Training]: 100%|██████████| 313/313 [00:38<00:00,  8.17it/s]\n",
            "Epoch 10/10 [Validation]: 100%|██████████| 79/79 [00:03<00:00, 20.08it/s]"
          ]
        },
        {
          "output_type": "stream",
          "name": "stdout",
          "text": [
            "Epoch 10: | Train Loss: 0.321 | Train Acc: 86.30%\n",
            "             | Val. Loss: 0.308 | Val. Acc: 87.24%\n",
            "--- Finished Training ---\n"
          ]
        },
        {
          "output_type": "stream",
          "name": "stderr",
          "text": [
            "\n"
          ]
        }
      ],
      "source": [
        "# Training loop\n",
        "\n",
        "# 1. Define Optimizer and Loss Function for Experiment B\n",
        "optimizer_B = optim.Adam(classifier_model_B.parameters(), lr=0.001)\n",
        "criterion = nn.BCEWithLogitsLoss().to(device) # We can reuse the same criterion object\n",
        "\n",
        "# 2. Train the model using the same function as before\n",
        "# The function will train the model and return the history for plotting.\n",
        "history_B = train_and_evaluate_classifier(\n",
        "    classifier_model_B,\n",
        "    cls_train_loader_B,\n",
        "    cls_val_loader_B,\n",
        "    optimizer_B,\n",
        "    criterion,\n",
        "    device,\n",
        "    epochs=10\n",
        ")"
      ]
    },
    {
      "cell_type": "code",
      "execution_count": 57,
      "id": "b4918c0c",
      "metadata": {
        "colab": {
          "base_uri": "https://localhost:8080/",
          "height": 472
        },
        "id": "b4918c0c",
        "outputId": "c86a650b-bd9f-4355-d5fd-3ae885528f18"
      },
      "outputs": [
        {
          "output_type": "stream",
          "name": "stdout",
          "text": [
            "\n",
            "--- Training History for Experiment B ---\n"
          ]
        },
        {
          "output_type": "display_data",
          "data": {
            "text/plain": [
              "<Figure size 1500x600 with 2 Axes>"
            ],
            "image/png": "[encoded data removed]"
          },
          "metadata": {}
        }
      ],
      "source": [
        "# Plot the training and validation graphs for Experiment B\n",
        "\n",
        "# We can reuse the same plotting function.\n",
        "print(\"\\n--- Training History for Experiment B ---\")\n",
        "plot_classifier_history(history_B)\n"
      ]
    },
    {
      "cell_type": "markdown",
      "id": "4db54c2a",
      "metadata": {
        "id": "4db54c2a"
      },
      "source": [
        "### Step 4: Evaluation"
      ]
    },
    {
      "cell_type": "code",
      "execution_count": 62,
      "id": "dc288174",
      "metadata": {
        "colab": {
          "base_uri": "https://localhost:8080/",
          "height": 746
        },
        "id": "dc288174",
        "outputId": "68c8c859-3580-4232-ae7b-5929e54cfa04"
      },
      "outputs": [
        {
          "output_type": "stream",
          "name": "stderr",
          "text": [
            "Evaluating on Test Set: 100%|██████████| 391/391 [00:19<00:00, 19.92it/s]\n"
          ]
        },
        {
          "output_type": "stream",
          "name": "stdout",
          "text": [
            "\n",
            "--- Final Test Set Evaluation ---\n",
            "Test Loss: 0.300\n",
            "Test Accuracy: 87.66%\n",
            "Test Precision: 0.875\n",
            "Test Recall: 0.879\n",
            "Test F1-Score: 0.877\n",
            "\n",
            "--- Confusion Matrix for Experiment B ---\n"
          ]
        },
        {
          "output_type": "display_data",
          "data": {
            "text/plain": [
              "<Figure size 800x600 with 2 Axes>"
            ],
            "image/png": "[encoded data removed]"
          },
          "metadata": {}
        }
      ],
      "source": [
        "\n",
        "# Evaluate on the test set and get labels for the confusion matrix\n",
        "# We reuse the same evaluation function.\n",
        "true_labels_B, predicted_labels_B = evaluate_on_test_set(\n",
        "    classifier_model_B,\n",
        "    cls_test_loader_B, # Use the test loader for Experiment B\n",
        "    criterion,\n",
        "    device\n",
        ")\n",
        "\n",
        "# Plot the confusion matrix for Experiment B\n",
        "print(\"\\n--- Confusion Matrix for Experiment B ---\")\n",
        "cm_B = confusion_matrix(true_labels_B, predicted_labels_B)\n",
        "plt.figure(figsize=(8, 6))\n",
        "sns.heatmap(cm_B, annot=True, fmt='d', cmap='Greens',\n",
        "            xticklabels=['Negative', 'Positive'],\n",
        "            yticklabels=['Negative', 'Positive'])\n",
        "plt.title('Confusion Matrix (Experiment B)')\n",
        "plt.ylabel('Actual Label')\n",
        "plt.xlabel('Predicted Label')\n",
        "plt.show()"
      ]
    },
    {
      "cell_type": "markdown",
      "id": "b4a40da2",
      "metadata": {
        "id": "b4a40da2"
      },
      "source": [
        "#### Error analysis"
      ]
    },
    {
      "cell_type": "code",
      "execution_count": 59,
      "id": "32375d70",
      "metadata": {
        "colab": {
          "base_uri": "https://localhost:8080/"
        },
        "id": "32375d70",
        "outputId": "ffff8dce-f89f-4b49-cf0d-65b0466ce8ea"
      },
      "outputs": [
        {
          "output_type": "stream",
          "name": "stdout",
          "text": [
            "\n",
            "--- Running Error Analysis for Experiment B ---\n",
            "--- Error Analysis: Searching for failed examples to save to 'error_analysis_B.txt' ---\n",
            "Error analysis report successfully saved to 'error_analysis_B.txt'.\n"
          ]
        }
      ],
      "source": [
        "print(\"\\n--- Running Error Analysis for Experiment B ---\")\n",
        "run_error_analysis_to_file(\n",
        "    classifier_model_B,\n",
        "    cls_test_set,      # The raw test set is the same\n",
        "    vocab_B,           # Use the vocabulary from Experiment B\n",
        "    device,\n",
        "    filename='error_analysis_B.txt' # Save to a new file\n",
        ")"
      ]
    },
    {
      "cell_type": "code",
      "source": [
        "# Save model\n",
        "torch.save(classifier_model_B.state_dict(), 'classifier_model_B.pth')"
      ],
      "metadata": {
        "id": "jNx1NIUqokao"
      },
      "execution_count": 60,
      "outputs": [],
      "id": "jNx1NIUqokao"
    }
  ],
  "metadata": {
    "accelerator": "GPU",
    "colab": {
      "gpuType": "T4",
      "provenance": []
    },
    "kernelspec": {
      "display_name": "NLP",
      "language": "python",
      "name": "python3"
    },
    "language_info": {
      "codemirror_mode": {
        "name": "ipython",
        "version": 3
      },
      "file_extension": ".py",
      "mimetype": "text/x-python",
      "name": "python",
      "nbconvert_exporter": "python",
      "pygments_lexer": "ipython3",
      "version": "3.11.11"
    }
  },
  "nbformat": 4,
  "nbformat_minor": 5
}