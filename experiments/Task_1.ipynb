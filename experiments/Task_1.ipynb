{
  "cells": [
    {
      "cell_type": "markdown",
      "id": "e67dba19",
      "metadata": {
        "id": "e67dba19"
      },
      "source": [
        "# Task 1: Language Modeling"
      ]
    },
    {
      "cell_type": "code",
      "execution_count": 2,
      "id": "9c914783",
      "metadata": {
        "id": "9c914783"
      },
      "outputs": [],
      "source": [
        "# Imports\n",
        "from collections import Counter\n",
        "import re\n",
        "import math\n",
        "from tqdm import tqdm # For progress bars\n",
        "\n",
        "import torch\n",
        "import torch.nn as nn\n",
        "from torch.utils.data import DataLoader, Dataset\n",
        "from torch.nn.utils.rnn import pad_sequence\n",
        "import torch.optim as optim\n",
        "\n",
        "import pandas as pd\n",
        "from datasets import load_dataset\n",
        "\n",
        "import matplotlib.pyplot as plt\n",
        "import seaborn as sns\n",
        "\n",
        "from sklearn.metrics import confusion_matrix\n",
        "from sklearn.model_selection import train_test_split\n",
        "\n",
        "\n",
        "# Set the random seed for reproducibility\n",
        "def set_seed(seed):\n",
        "    torch.manual_seed(seed)\n",
        "    torch.cuda.manual_seed_all(seed)\n",
        "\n",
        "set_seed(42)"
      ]
    },
    {
      "cell_type": "markdown",
      "id": "7c3ffd9b",
      "metadata": {
        "id": "7c3ffd9b"
      },
      "source": [
        "## Step 1: EDA"
      ]
    },
    {
      "cell_type": "code",
      "execution_count": 17,
      "id": "u8-nGS1FOU5f",
      "metadata": {
        "colab": {
          "base_uri": "https://localhost:8080/"
        },
        "id": "u8-nGS1FOU5f",
        "outputId": "32a9d4c6-86b3-444c-8707-935ee1824bb6"
      },
      "outputs": [
        {
          "name": "stdout",
          "output_type": "stream",
          "text": [
            "Requirement already satisfied: datasets in /usr/local/lib/python3.11/dist-packages (3.6.0)\n",
            "Requirement already satisfied: fsspec in /usr/local/lib/python3.11/dist-packages (2025.3.0)\n",
            "Collecting fsspec\n",
            "  Using cached fsspec-2025.5.1-py3-none-any.whl.metadata (11 kB)\n",
            "Requirement already satisfied: filelock in /usr/local/lib/python3.11/dist-packages (from datasets) (3.18.0)\n",
            "Requirement already satisfied: numpy>=1.17 in /usr/local/lib/python3.11/dist-packages (from datasets) (2.0.2)\n",
            "Requirement already satisfied: pyarrow>=15.0.0 in /usr/local/lib/python3.11/dist-packages (from datasets) (18.1.0)\n",
            "Requirement already satisfied: dill<0.3.9,>=0.3.0 in /usr/local/lib/python3.11/dist-packages (from datasets) (0.3.7)\n",
            "Requirement already satisfied: pandas in /usr/local/lib/python3.11/dist-packages (from datasets) (2.2.2)\n",
            "Requirement already satisfied: requests>=2.32.2 in /usr/local/lib/python3.11/dist-packages (from datasets) (2.32.3)\n",
            "Requirement already satisfied: tqdm>=4.66.3 in /usr/local/lib/python3.11/dist-packages (from datasets) (4.67.1)\n",
            "Requirement already satisfied: xxhash in /usr/local/lib/python3.11/dist-packages (from datasets) (3.5.0)\n",
            "Requirement already satisfied: multiprocess<0.70.17 in /usr/local/lib/python3.11/dist-packages (from datasets) (0.70.15)\n",
            "Requirement already satisfied: huggingface-hub>=0.24.0 in /usr/local/lib/python3.11/dist-packages (from datasets) (0.33.0)\n",
            "Requirement already satisfied: packaging in /usr/local/lib/python3.11/dist-packages (from datasets) (24.2)\n",
            "Requirement already satisfied: pyyaml>=5.1 in /usr/local/lib/python3.11/dist-packages (from datasets) (6.0.2)\n",
            "Requirement already satisfied: aiohttp!=4.0.0a0,!=4.0.0a1 in /usr/local/lib/python3.11/dist-packages (from fsspec[http]<=2025.3.0,>=2023.1.0->datasets) (3.11.15)\n",
            "Requirement already satisfied: typing-extensions>=3.7.4.3 in /usr/local/lib/python3.11/dist-packages (from huggingface-hub>=0.24.0->datasets) (4.14.0)\n",
            "Requirement already satisfied: hf-xet<2.0.0,>=1.1.2 in /usr/local/lib/python3.11/dist-packages (from huggingface-hub>=0.24.0->datasets) (1.1.3)\n",
            "Requirement already satisfied: charset-normalizer<4,>=2 in /usr/local/lib/python3.11/dist-packages (from requests>=2.32.2->datasets) (3.4.2)\n",
            "Requirement already satisfied: idna<4,>=2.5 in /usr/local/lib/python3.11/dist-packages (from requests>=2.32.2->datasets) (3.10)\n",
            "Requirement already satisfied: urllib3<3,>=1.21.1 in /usr/local/lib/python3.11/dist-packages (from requests>=2.32.2->datasets) (2.4.0)\n",
            "Requirement already satisfied: certifi>=2017.4.17 in /usr/local/lib/python3.11/dist-packages (from requests>=2.32.2->datasets) (2025.4.26)\n",
            "Requirement already satisfied: python-dateutil>=2.8.2 in /usr/local/lib/python3.11/dist-packages (from pandas->datasets) (2.9.0.post0)\n",
            "Requirement already satisfied: pytz>=2020.1 in /usr/local/lib/python3.11/dist-packages (from pandas->datasets) (2025.2)\n",
            "Requirement already satisfied: tzdata>=2022.7 in /usr/local/lib/python3.11/dist-packages (from pandas->datasets) (2025.2)\n",
            "Requirement already satisfied: aiohappyeyeballs>=2.3.0 in /usr/local/lib/python3.11/dist-packages (from aiohttp!=4.0.0a0,!=4.0.0a1->fsspec[http]<=2025.3.0,>=2023.1.0->datasets) (2.6.1)\n",
            "Requirement already satisfied: aiosignal>=1.1.2 in /usr/local/lib/python3.11/dist-packages (from aiohttp!=4.0.0a0,!=4.0.0a1->fsspec[http]<=2025.3.0,>=2023.1.0->datasets) (1.3.2)\n",
            "Requirement already satisfied: attrs>=17.3.0 in /usr/local/lib/python3.11/dist-packages (from aiohttp!=4.0.0a0,!=4.0.0a1->fsspec[http]<=2025.3.0,>=2023.1.0->datasets) (25.3.0)\n",
            "Requirement already satisfied: frozenlist>=1.1.1 in /usr/local/lib/python3.11/dist-packages (from aiohttp!=4.0.0a0,!=4.0.0a1->fsspec[http]<=2025.3.0,>=2023.1.0->datasets) (1.7.0)\n",
            "Requirement already satisfied: multidict<7.0,>=4.5 in /usr/local/lib/python3.11/dist-packages (from aiohttp!=4.0.0a0,!=4.0.0a1->fsspec[http]<=2025.3.0,>=2023.1.0->datasets) (6.4.4)\n",
            "Requirement already satisfied: propcache>=0.2.0 in /usr/local/lib/python3.11/dist-packages (from aiohttp!=4.0.0a0,!=4.0.0a1->fsspec[http]<=2025.3.0,>=2023.1.0->datasets) (0.3.2)\n",
            "Requirement already satisfied: yarl<2.0,>=1.17.0 in /usr/local/lib/python3.11/dist-packages (from aiohttp!=4.0.0a0,!=4.0.0a1->fsspec[http]<=2025.3.0,>=2023.1.0->datasets) (1.20.1)\n",
            "Requirement already satisfied: six>=1.5 in /usr/local/lib/python3.11/dist-packages (from python-dateutil>=2.8.2->pandas->datasets) (1.17.0)\n"
          ]
        }
      ],
      "source": [
        "# Fix for google colab\n",
        "!pip install --upgrade datasets fsspec"
      ]
    },
    {
      "cell_type": "code",
      "execution_count": 3,
      "id": "1d478e9d",
      "metadata": {
        "colab": {
          "base_uri": "https://localhost:8080/"
        },
        "id": "1d478e9d",
        "outputId": "82d8bee1-5d66-418b-8ed0-1e3790e7f172"
      },
      "outputs": [
        {
          "name": "stdout",
          "output_type": "stream",
          "text": [
            "DatasetDict({\n",
            "    train: Dataset({\n",
            "        features: ['text', 'label'],\n",
            "        num_rows: 25000\n",
            "    })\n",
            "    test: Dataset({\n",
            "        features: ['text', 'label'],\n",
            "        num_rows: 25000\n",
            "    })\n",
            "    unsupervised: Dataset({\n",
            "        features: ['text', 'label'],\n",
            "        num_rows: 50000\n",
            "    })\n",
            "})\n"
          ]
        }
      ],
      "source": [
        "# Load the dataset\n",
        "dataset = load_dataset(\"imdb\")\n",
        "# Inspect the dataset structure\n",
        "print(dataset)\n"
      ]
    },
    {
      "cell_type": "code",
      "execution_count": 13,
      "id": "e6468e8f",
      "metadata": {
        "colab": {
          "base_uri": "https://localhost:8080/"
        },
        "id": "e6468e8f",
        "outputId": "1bb2094d-736a-4c45-bb83-bf5b3f6eddda"
      },
      "outputs": [
        {
          "name": "stdout",
          "output_type": "stream",
          "text": [
            "Loaded 25000 reviews.\n",
            "First review:\n",
            " I rented I AM CURIOUS-YELLOW from my video store because of all the controversy that surrounded it when it was first released in 1967. I also heard that at first it was seized by U.S. customs if it ever tried to enter this country, therefore being a fan of films considered \"controversial\" I really had to see this for myself.<br /><br />The plot is centered around a young Swedish drama student named Lena who wants to learn everything she can about life. In particular she wants to focus her attentions to making some sort of documentary on what the average Swede thought about certain political issues such as the Vietnam War and race issues in the United States. In between asking politicians and ordinary denizens of Stockholm about their opinions on politics, she has sex with her drama teacher, classmates, and married men.<br /><br />What kills me about I AM CURIOUS-YELLOW is that 40 years ago, this was considered pornographic. Really, the sex and nudity scenes are few and far between, even then it's not shot like some cheaply made porno. While my countrymen mind find it shocking, in reality sex and nudity are a major staple in Swedish cinema. Even Ingmar Bergman, arguably their answer to good old boy John Ford, had sex scenes in his films.<br /><br />I do commend the filmmakers for the fact that any sex shown in the film is shown for artistic purposes rather than just to shock people and make money to be shown in pornographic theaters in America. I AM CURIOUS-YELLOW is a good film for anyone wanting to study the meat and potatoes (no pun intended) of Swedish cinema. But really, this film doesn't have much of a plot.\n"
          ]
        }
      ],
      "source": [
        "# Prepare the data for language modeling\n",
        "\n",
        "# We don't need the label (sentiment) for next word prediction, so we'll concat the text fields\n",
        "train_texts = [review['text'] for review in dataset['train']]\n",
        "\n",
        "print(f\"Loaded {len(train_texts)} reviews.\")\n",
        "\n",
        "# Display the first review\n",
        "print(\"First review:\\n\", train_texts[0])\n"
      ]
    },
    {
      "cell_type": "markdown",
      "id": "8e76ffcc",
      "metadata": {
        "id": "8e76ffcc"
      },
      "source": [
        "### Data analysis and visualisation"
      ]
    },
    {
      "cell_type": "code",
      "execution_count": 14,
      "id": "aa5c2174",
      "metadata": {
        "id": "aa5c2174"
      },
      "outputs": [],
      "source": [
        "# EDA Tokenization (simple tokenizer to visualize the data)\n",
        "\n",
        "# Create a tokenizer that removes punctuation and splits by spaces and tokenize the texts\n",
        "def tokenizer(text):\n",
        "    # a-z, 0-9, and single apostrophes TODO ??\n",
        "    text = re.sub(r'[^a-zA-Z0-9\\']', ' ', text)\n",
        "    # Convert to lowercase and split by spaces\n",
        "    tokens = text.lower().split()\n",
        "    return tokens\n",
        "\n",
        "# Tokenize all training texts\n",
        "all_tokens = [token for text in train_texts for token in tokenizer(text)]"
      ]
    },
    {
      "cell_type": "code",
      "execution_count": 21,
      "id": "b8702029",
      "metadata": {
        "colab": {
          "base_uri": "https://localhost:8080/",
          "height": 564
        },
        "id": "b8702029",
        "outputId": "8832225e-55f2-496a-c282-c3faa3557e3c"
      },
      "outputs": [
        {
          "data": {
            "image/png": "[encoded data removed]",
            "text/plain": [
              "<Figure size 1000x600 with 1 Axes>"
            ]
          },
          "metadata": {},
          "output_type": "display_data"
        }
      ],
      "source": [
        "# Review length distribution\n",
        "\n",
        "# Calculate review lengths for deciding sequence length (what is that?) #TODO\n",
        "review_lengths = [len(tokenizer(text)) for text in train_texts]\n",
        "\n",
        "# Plot the distribution of review lengths\n",
        "plt.figure(figsize=(10, 6))\n",
        "sns.histplot(review_lengths, bins=50, kde=True)\n",
        "plt.title(\"Distribution of Review Lengths\")\n",
        "plt.xlabel(\"Number of Tokens\")\n",
        "plt.ylabel(\"Frequency\")\n",
        "plt.show()\n"
      ]
    },
    {
      "cell_type": "code",
      "execution_count": 22,
      "id": "c8e2eef2",
      "metadata": {
        "colab": {
          "base_uri": "https://localhost:8080/"
        },
        "id": "c8e2eef2",
        "outputId": "6683a0d0-bb95-496a-d77d-5cd84ebc9ec6"
      },
      "outputs": [
        {
          "name": "stdout",
          "output_type": "stream",
          "text": [
            "Most common tokens:\n",
            "the: 336195\n",
            "and: 164136\n",
            "a: 163093\n",
            "of: 145850\n",
            "to: 135713\n",
            "is: 107319\n",
            "br: 101872\n",
            "in: 93946\n",
            "it: 79128\n",
            "i: 77203\n",
            "this: 75978\n",
            "that: 69811\n",
            "was: 48196\n",
            "as: 46935\n",
            "for: 44340\n",
            "with: 44128\n",
            "movie: 43573\n",
            "but: 42618\n",
            "film: 39104\n",
            "on: 34194\n",
            "not: 30619\n",
            "you: 29895\n",
            "are: 29431\n",
            "his: 29370\n",
            "have: 27727\n",
            "he: 26962\n",
            "be: 26949\n",
            "one: 26519\n",
            "all: 23963\n",
            "at: 23515\n"
          ]
        }
      ],
      "source": [
        "# Count the frequency of each token\n",
        "token_counts = Counter(all_tokens)\n",
        "\n",
        "# Display the 30 most common tokens\n",
        "most_common_tokens = token_counts.most_common(30)\n",
        "print(\"Most common tokens:\")\n",
        "for token, count in most_common_tokens:\n",
        "    print(f\"{token}: {count}\")"
      ]
    },
    {
      "cell_type": "markdown",
      "id": "5854eda4",
      "metadata": {
        "id": "5854eda4"
      },
      "source": [
        "*Altough it's common to filter stop words, the are crucial for next word prediction so we will keep them"
      ]
    },
    {
      "cell_type": "code",
      "execution_count": 16,
      "id": "2108e884",
      "metadata": {
        "colab": {
          "base_uri": "https://localhost:8080/"
        },
        "id": "2108e884",
        "outputId": "584ce90e-e851-4806-c3c9-617a2806004b"
      },
      "outputs": [
        {
          "name": "stdout",
          "output_type": "stream",
          "text": [
            "New training set size: 22500\n",
            "Validation set size: 2500\n",
            "Test set size: 25000\n"
          ]
        }
      ],
      "source": [
        "# Creating Train, Validation, and Test Sets\n",
        "\n",
        "# To create a validation set, we split the original training set\n",
        "original_train = dataset['train']\n",
        "train_set, val_set = original_train.train_test_split(test_size=0.1, seed=42).values()\n",
        "\n",
        "test_set = dataset['test']\n",
        "\n",
        "print(f\"New training set size: {len(train_set)}\")\n",
        "print(f\"Validation set size: {len(val_set)}\")\n",
        "print(f\"Test set size: {len(test_set)}\")"
      ]
    },
    {
      "cell_type": "markdown",
      "id": "9c462462",
      "metadata": {
        "id": "9c462462"
      },
      "source": [
        "# Step 2: building Dataset & Dataloader"
      ]
    },
    {
      "cell_type": "markdown",
      "id": "4d1f50e8",
      "metadata": {
        "id": "4d1f50e8"
      },
      "source": [
        "### Vocabulary building"
      ]
    },
    {
      "cell_type": "code",
      "execution_count": 17,
      "id": "ef08287e",
      "metadata": {
        "colab": {
          "base_uri": "https://localhost:8080/",
          "height": 108
        },
        "id": "ef08287e",
        "outputId": "c30844e9-1c71-4028-d28b-5df8a269a595"
      },
      "outputs": [
        {
          "name": "stdout",
          "output_type": "stream",
          "text": [
            "Building vocabulary...\n"
          ]
        },
        {
          "name": "stderr",
          "output_type": "stream",
          "text": [
            "100%|██████████| 22500/22500 [00:03<00:00, 7015.77it/s]"
          ]
        },
        {
          "name": "stdout",
          "output_type": "stream",
          "text": [
            "Built vocabulary with 29111 words.\n"
          ]
        },
        {
          "name": "stderr",
          "output_type": "stream",
          "text": [
            "\n"
          ]
        },
        {
          "data": {
            "text/plain": [
              "\"# Extract the raw text from the train_set for building the vocabulary\\ntrain_texts_for_vocab = [example['text'] for example in train_set] TODO test if this works the same\\nvocab.build_vocabulary(train_texts_for_vocab)\""
            ]
          },
          "execution_count": 17,
          "metadata": {},
          "output_type": "execute_result"
        }
      ],
      "source": [
        "# Building a vocabulary from the training set\n",
        "\n",
        "# Using the same simple tokenizer from our EDA\n",
        "def tokenizer(text):\n",
        "    text = re.sub(r'[^a-zA-Z0-9\\']', ' ', text)\n",
        "    tokens = text.lower().split()\n",
        "    return tokens\n",
        "\n",
        "class Vocabulary:\n",
        "    def __init__(self, min_freq=5):\n",
        "        self.itos = {0: \"<pad>\", 1: \"<unk>\"}  # Index to string mapping\n",
        "        self.stoi = {\"<pad>\": 0, \"<unk>\": 1} # String to index mapping\n",
        "        self.min_freq = min_freq\n",
        "\n",
        "    def __len__(self):\n",
        "        return len(self.itos)\n",
        "\n",
        "    def build_vocabulary(self, sentence_list):\n",
        "        # Count all tokens in the training set\n",
        "        token_counts = Counter()\n",
        "        print(\"Building vocabulary...\")\n",
        "        for sentence in tqdm(sentence_list):\n",
        "            token_counts.update(tokenizer(sentence))\n",
        "\n",
        "        # Filter by minimum frequency and create mappings\n",
        "        idx = 2 # Start indexing from 2\n",
        "        for token, count in token_counts.items():\n",
        "            if count >= self.min_freq:\n",
        "                self.stoi[token] = idx\n",
        "                self.itos[idx] = token\n",
        "                idx += 1\n",
        "        print(f\"Built vocabulary with {len(self)} words.\")\n",
        "\n",
        "\n",
        "# Create an instance of the Vocabulary class and build it from the training set\n",
        "vocab = Vocabulary(min_freq=5)\n",
        "vocab.build_vocabulary(train_set['text'])\n",
        "'''# Extract the raw text from the train_set for building the vocabulary\n",
        "train_texts_for_vocab = [example['text'] for example in train_set] TODO test if this works the same\n",
        "vocab.build_vocabulary(train_texts_for_vocab)'''\n"
      ]
    },
    {
      "cell_type": "code",
      "execution_count": 25,
      "id": "9f082ca2",
      "metadata": {
        "colab": {
          "base_uri": "https://localhost:8080/"
        },
        "id": "9f082ca2",
        "outputId": "d9e996ab-5e8d-49c5-d398-a26709563fc7"
      },
      "outputs": [
        {
          "name": "stdout",
          "output_type": "stream",
          "text": [
            "\n",
            "--- Vocabulary Test ---\n",
            "Index of 'movie': 116\n",
            "Index of a rare word 'zombiethon': 1\n",
            "Word for index 10: old\n",
            "---------------------\n",
            "\n"
          ]
        }
      ],
      "source": [
        "# Test the vocabulary\n",
        "print(\"\\n--- Vocabulary Test ---\")\n",
        "print(f\"Index of 'movie': {vocab.stoi.get('movie', vocab.stoi['<unk>'])}\")\n",
        "print(f\"Index of a rare word 'zombiethon': {vocab.stoi.get('zombiethon', vocab.stoi['<unk>'])}\")\n",
        "print(f\"Word for index 10: {vocab.itos.get(10, '<unk>')}\")\n",
        "print(\"---------------------\\n\")"
      ]
    },
    {
      "cell_type": "code",
      "execution_count": 26,
      "id": "ff8e1b8e",
      "metadata": {
        "colab": {
          "base_uri": "https://localhost:8080/"
        },
        "id": "ff8e1b8e",
        "outputId": "35c3b77d-d99a-4af0-e795-877f7d94690b"
      },
      "outputs": [
        {
          "name": "stdout",
          "output_type": "stream",
          "text": [
            "Vocabulary saved to 'vocab.pth'.\n"
          ]
        }
      ],
      "source": [
        "# Save the vocaulary to be used in Task 2\n",
        "\n",
        "torch.save(vocab, 'vocab.pth')\n",
        "print(\"Vocabulary saved to 'vocab.pth'.\")"
      ]
    },
    {
      "cell_type": "markdown",
      "id": "3783b158",
      "metadata": {
        "id": "3783b158"
      },
      "source": [
        "### Dataset and dataloaders"
      ]
    },
    {
      "cell_type": "code",
      "execution_count": 18,
      "id": "ebd93fe1",
      "metadata": {
        "colab": {
          "base_uri": "https://localhost:8080/"
        },
        "id": "ebd93fe1",
        "outputId": "82aafcfc-d26b-4def-e88a-e0c9498c77e3"
      },
      "outputs": [
        {
          "name": "stdout",
          "output_type": "stream",
          "text": [
            "Sample Input Seq: tensor([ 2,  3,  4,  5,  6,  7,  8,  9, 10, 11])...\n",
            "Sample Target Seq: tensor([ 3,  4,  5,  6,  7,  8,  9, 10, 11, 12])...\n"
          ]
        }
      ],
      "source": [
        "# Define a PyTorch Dataset for the IMDB reviews\n",
        "\n",
        "class LanguageModelDataset(Dataset):\n",
        "    def __init__(self, dataset, vocab, max_len=256): # Set a max length\n",
        "        self.texts = [example['text'] for example in dataset]\n",
        "        self.vocab = vocab\n",
        "        self.max_len = max_len\n",
        "\n",
        "    def __len__(self):\n",
        "        return len(self.texts)\n",
        "\n",
        "    def __getitem__(self, idx):\n",
        "        text = self.texts[idx]\n",
        "        tokens = tokenizer(text)\n",
        "\n",
        "        numericalized = [self.vocab.stoi.get(token, self.vocab.stoi[\"<unk>\"]) for token in tokens]\n",
        "\n",
        "        # --- FIX: Truncate the sequence to max_len ---\n",
        "        if len(numericalized) > self.max_len:\n",
        "            numericalized = numericalized[:self.max_len]\n",
        "\n",
        "        # For language modeling, input is sequence, target is sequence shifted by 1\n",
        "        input_seq = torch.tensor(numericalized[:-1], dtype=torch.long)\n",
        "        target_seq = torch.tensor(numericalized[1:], dtype=torch.long)\n",
        "\n",
        "        return input_seq, target_seq\n",
        "\n",
        "# Create Dataset objects for training and validation sets\n",
        "train_dataset = LanguageModelDataset(train_set, vocab, max_len=256)\n",
        "val_dataset = LanguageModelDataset(val_set, vocab, max_len=256)\n",
        "\n",
        "# Let's check a sample from the dataset\n",
        "input_sample, target_sample = train_dataset[0]\n",
        "print(f\"Sample Input Seq: {input_sample[:10]}...\")\n",
        "print(f\"Sample Target Seq: {target_sample[:10]}...\")\n"
      ]
    },
    {
      "cell_type": "code",
      "execution_count": 19,
      "id": "74a8b00a",
      "metadata": {
        "colab": {
          "base_uri": "https://localhost:8080/"
        },
        "id": "74a8b00a",
        "outputId": "71693b14-fdab-48e6-fee4-3f0de46d6801"
      },
      "outputs": [
        {
          "name": "stdout",
          "output_type": "stream",
          "text": [
            "\n",
            "Created DataLoaders with batch size 32.\n"
          ]
        }
      ],
      "source": [
        "# Define Dataloader\n",
        "\n",
        "class PadCollate:\n",
        "    def __init__(self, pad_idx):\n",
        "        self.pad_idx = pad_idx\n",
        "\n",
        "    def __call__(self, batch):\n",
        "        # Separate inputs and targets\n",
        "        inputs = [item[0] for item in batch]\n",
        "        targets = [item[1] for item in batch]\n",
        "\n",
        "        # Pad sequences\n",
        "        padded_inputs = pad_sequence(inputs, batch_first=True, padding_value=self.pad_idx)\n",
        "        padded_targets = pad_sequence(targets, batch_first=True, padding_value=self.pad_idx)\n",
        "\n",
        "        return padded_inputs, padded_targets\n",
        "\n",
        "# Set hyperparameters\n",
        "BATCH_SIZE = 32\n",
        "pad_idx = vocab.stoi[\"<pad>\"]\n",
        "\n",
        "# Create the DataLoaders\n",
        "train_loader = DataLoader(\n",
        "    dataset=train_dataset,\n",
        "    batch_size=BATCH_SIZE,\n",
        "    shuffle=True,\n",
        "    collate_fn=PadCollate(pad_idx=pad_idx)\n",
        ")\n",
        "\n",
        "val_loader = DataLoader(\n",
        "    dataset=val_dataset,\n",
        "    batch_size=BATCH_SIZE,\n",
        "    shuffle=False,\n",
        "    collate_fn=PadCollate(pad_idx=pad_idx)\n",
        ")\n",
        "\n",
        "print(f\"\\nCreated DataLoaders with batch size {BATCH_SIZE}.\")"
      ]
    },
    {
      "cell_type": "markdown",
      "id": "d3bf7d06",
      "metadata": {
        "id": "d3bf7d06"
      },
      "source": [
        "## Step 3: Define and Train the LM\n",
        "The model will use a RNN and will have the following layers:\n",
        "-   Embedding Layer:  \n",
        "    This layer will convert the numerical token indices into dense vector representations, allowing the model to capture semantic meanings of words.\n",
        "-   LSTM Layer:  \n",
        "    We'll use an LSTM (Long Short-Term Memory), a powerful type of RNN, to process the sequence of word vectors and capture sequential dependencies.\n",
        "-   Output (Linear) Layer:  \n",
        "    This final layer will take the output from the LSTM and predict a probability distribution over our entire vocabulary for the next word in the sequence."
      ]
    },
    {
      "cell_type": "markdown",
      "id": "e1b5e5a7",
      "metadata": {
        "id": "e1b5e5a7"
      },
      "source": [
        "### Model architecture"
      ]
    },
    {
      "cell_type": "code",
      "execution_count": 20,
      "id": "7ee223cf",
      "metadata": {
        "colab": {
          "base_uri": "https://localhost:8080/"
        },
        "id": "7ee223cf",
        "outputId": "da0ea278-e4dc-4c82-e1b3-028cfdbcac13"
      },
      "outputs": [
        {
          "name": "stdout",
          "output_type": "stream",
          "text": [
            "Using device: cpu\n",
            "\n",
            "Model Architecture:\n",
            "LanguageModel(\n",
            "  (embedding): Embedding(29111, 128)\n",
            "  (lstm): LSTM(128, 256, num_layers=2, batch_first=True)\n",
            "  (fc): Linear(in_features=256, out_features=29111, bias=True)\n",
            ")\n"
          ]
        }
      ],
      "source": [
        "# Define the architecture of the language model\n",
        "\n",
        "class LanguageModel(nn.Module):\n",
        "    def __init__(self, vocab_size, embedding_dim, hidden_dim, num_layers):\n",
        "        super(LanguageModel, self).__init__()\n",
        "\n",
        "        # 1. Embedding layer to convert token indices to dense vectors\n",
        "        self.embedding = nn.Embedding(vocab_size, embedding_dim)\n",
        "\n",
        "        # 2. LSTM layer to capture sequential patterns\n",
        "        self.lstm = nn.LSTM(\n",
        "            input_size=embedding_dim,\n",
        "            hidden_size=hidden_dim,\n",
        "            num_layers=num_layers,\n",
        "            batch_first=True  # to make handling batch dimensions easier\n",
        "        )\n",
        "\n",
        "        # 3. A fully connected Output layer to predict the next word over the vocabulary\n",
        "        self.fc = nn.Linear(hidden_dim, vocab_size)\n",
        "\n",
        "    def forward(self, x):\n",
        "        # x shape: (batch_size, seq_length)\n",
        "\n",
        "        embedded = self.embedding(x)\n",
        "        # embedded shape: (batch_size, seq_length, embedding_dim)\n",
        "\n",
        "        lstm_out, _ = self.lstm(embedded)\n",
        "        # lstm_out shape: (batch_size, seq_length, hidden_dim)\n",
        "\n",
        "        # We pass the output of each time step to the fully connected layer\n",
        "        out = self.fc(lstm_out)\n",
        "        # out shape: (batch_size, seq_length, vocab_size)\n",
        "\n",
        "        return out\n",
        "\n",
        "# --- Hyperparameters ---\n",
        "VOCAB_SIZE = len(vocab)\n",
        "EMBEDDING_DIM = 128\n",
        "HIDDEN_DIM = 256\n",
        "NUM_LAYERS = 2\n",
        "LEARNING_RATE = 0.001\n",
        "\n",
        "# --- Device Configuration --- (to use GPU if available)\n",
        "device = torch.device('cuda' if torch.cuda.is_available() else 'cpu')\n",
        "print(f\"Using device: {device}\")\n",
        "\n",
        "# --- Instantiate the Model ---\n",
        "model = LanguageModel(VOCAB_SIZE, EMBEDDING_DIM, HIDDEN_DIM, NUM_LAYERS).to(device)\n",
        "print(\"\\nModel Architecture:\")\n",
        "print(model)"
      ]
    },
    {
      "cell_type": "markdown",
      "id": "45f7a8ec",
      "metadata": {
        "id": "45f7a8ec"
      },
      "source": [
        "### Training loop"
      ]
    },
    {
      "cell_type": "code",
      "execution_count": 30,
      "id": "999c419c",
      "metadata": {
        "colab": {
          "base_uri": "https://localhost:8080/"
        },
        "id": "999c419c",
        "outputId": "b46d7535-fcfd-4feb-8c1b-7974816f445f"
      },
      "outputs": [
        {
          "name": "stdout",
          "output_type": "stream",
          "text": [
            "\n",
            "--- Starting Training ---\n"
          ]
        },
        {
          "name": "stderr",
          "output_type": "stream",
          "text": [
            "Epoch 1/10 [Training]: 100%|██████████| 704/704 [02:00<00:00,  5.83it/s]\n",
            "Epoch 1/10 [Validation]: 100%|██████████| 79/79 [00:05<00:00, 14.87it/s]\n"
          ]
        },
        {
          "name": "stdout",
          "output_type": "stream",
          "text": [
            "Epoch [1/10], Train Loss: 6.9148, Val Loss: 6.5346\n"
          ]
        },
        {
          "name": "stderr",
          "output_type": "stream",
          "text": [
            "Epoch 2/10 [Training]: 100%|██████████| 704/704 [02:02<00:00,  5.76it/s]\n",
            "Epoch 2/10 [Validation]: 100%|██████████| 79/79 [00:05<00:00, 15.03it/s]\n"
          ]
        },
        {
          "name": "stdout",
          "output_type": "stream",
          "text": [
            "Epoch [2/10], Train Loss: 6.2630, Val Loss: 6.0163\n"
          ]
        },
        {
          "name": "stderr",
          "output_type": "stream",
          "text": [
            "Epoch 3/10 [Training]: 100%|██████████| 704/704 [02:02<00:00,  5.76it/s]\n",
            "Epoch 3/10 [Validation]: 100%|██████████| 79/79 [00:05<00:00, 14.83it/s]\n"
          ]
        },
        {
          "name": "stdout",
          "output_type": "stream",
          "text": [
            "Epoch [3/10], Train Loss: 5.9064, Val Loss: 5.7645\n"
          ]
        },
        {
          "name": "stderr",
          "output_type": "stream",
          "text": [
            "Epoch 4/10 [Training]: 100%|██████████| 704/704 [02:02<00:00,  5.75it/s]\n",
            "Epoch 4/10 [Validation]: 100%|██████████| 79/79 [00:05<00:00, 14.92it/s]\n"
          ]
        },
        {
          "name": "stdout",
          "output_type": "stream",
          "text": [
            "Epoch [4/10], Train Loss: 5.6860, Val Loss: 5.5996\n"
          ]
        },
        {
          "name": "stderr",
          "output_type": "stream",
          "text": [
            "Epoch 5/10 [Training]: 100%|██████████| 704/704 [02:02<00:00,  5.74it/s]\n",
            "Epoch 5/10 [Validation]: 100%|██████████| 79/79 [00:05<00:00, 14.84it/s]\n"
          ]
        },
        {
          "name": "stdout",
          "output_type": "stream",
          "text": [
            "Epoch [5/10], Train Loss: 5.5293, Val Loss: 5.4914\n"
          ]
        },
        {
          "name": "stderr",
          "output_type": "stream",
          "text": [
            "Epoch 6/10 [Training]: 100%|██████████| 704/704 [02:02<00:00,  5.73it/s]\n",
            "Epoch 6/10 [Validation]: 100%|██████████| 79/79 [00:05<00:00, 14.68it/s]\n"
          ]
        },
        {
          "name": "stdout",
          "output_type": "stream",
          "text": [
            "Epoch [6/10], Train Loss: 5.4115, Val Loss: 5.4110\n"
          ]
        },
        {
          "name": "stderr",
          "output_type": "stream",
          "text": [
            "Epoch 7/10 [Training]: 100%|██████████| 704/704 [02:02<00:00,  5.73it/s]\n",
            "Epoch 7/10 [Validation]: 100%|██████████| 79/79 [00:05<00:00, 14.93it/s]\n"
          ]
        },
        {
          "name": "stdout",
          "output_type": "stream",
          "text": [
            "Epoch [7/10], Train Loss: 5.3162, Val Loss: 5.3547\n"
          ]
        },
        {
          "name": "stderr",
          "output_type": "stream",
          "text": [
            "Epoch 8/10 [Training]: 100%|██████████| 704/704 [02:03<00:00,  5.72it/s]\n",
            "Epoch 8/10 [Validation]: 100%|██████████| 79/79 [00:05<00:00, 14.88it/s]\n"
          ]
        },
        {
          "name": "stdout",
          "output_type": "stream",
          "text": [
            "Epoch [8/10], Train Loss: 5.2317, Val Loss: 5.3080\n"
          ]
        },
        {
          "name": "stderr",
          "output_type": "stream",
          "text": [
            "Epoch 9/10 [Training]: 100%|██████████| 704/704 [02:03<00:00,  5.72it/s]\n",
            "Epoch 9/10 [Validation]: 100%|██████████| 79/79 [00:05<00:00, 14.68it/s]\n"
          ]
        },
        {
          "name": "stdout",
          "output_type": "stream",
          "text": [
            "Epoch [9/10], Train Loss: 5.1563, Val Loss: 5.2723\n"
          ]
        },
        {
          "name": "stderr",
          "output_type": "stream",
          "text": [
            "Epoch 10/10 [Training]: 100%|██████████| 704/704 [02:02<00:00,  5.73it/s]\n",
            "Epoch 10/10 [Validation]: 100%|██████████| 79/79 [00:05<00:00, 14.94it/s]"
          ]
        },
        {
          "name": "stdout",
          "output_type": "stream",
          "text": [
            "Epoch [10/10], Train Loss: 5.0901, Val Loss: 5.2426\n",
            "--- Finished Training ---\n"
          ]
        },
        {
          "name": "stderr",
          "output_type": "stream",
          "text": [
            "\n"
          ]
        }
      ],
      "source": [
        "# --- Loss and Optimizer ---\n",
        "# Use CrossEntropyLoss, ignoring the padding token becuase it doesn't contribute to the loss\n",
        "criterion = nn.CrossEntropyLoss(ignore_index=vocab.stoi['<pad>'])\n",
        "optimizer = optim.Adam(model.parameters(), lr=LEARNING_RATE)\n",
        "\n",
        "# --- Training Loop ---\n",
        "NUM_EPOCHS = 10\n",
        "train_losses = []\n",
        "val_losses = []\n",
        "\n",
        "print(\"\\n--- Starting Training ---\")\n",
        "\n",
        "for epoch in range(NUM_EPOCHS):\n",
        "    # --- Training Phase ---\n",
        "    model.train()\n",
        "    running_train_loss = 0.0\n",
        "\n",
        "    for inputs, targets in tqdm(train_loader, desc=f\"Epoch {epoch+1}/{NUM_EPOCHS} [Training]\"):\n",
        "        inputs, targets = inputs.to(device), targets.to(device)\n",
        "\n",
        "        # Zero the gradients\n",
        "        optimizer.zero_grad()\n",
        "\n",
        "        # Forward pass\n",
        "        outputs = model(inputs)\n",
        "\n",
        "        # Reshape for loss function:\n",
        "\n",
        "        outputs_flat = outputs.view(-1, VOCAB_SIZE)\n",
        "        targets_flat = targets.view(-1)\n",
        "\n",
        "        # Calculate loss\n",
        "        loss = criterion(outputs_flat, targets_flat)\n",
        "\n",
        "        # Backward pass and optimize\n",
        "        loss.backward()\n",
        "        optimizer.step()\n",
        "\n",
        "        running_train_loss += loss.item()\n",
        "\n",
        "    avg_train_loss = running_train_loss / len(train_loader)\n",
        "    train_losses.append(avg_train_loss)\n",
        "\n",
        "    # --- Validation Phase ---\n",
        "    model.eval()\n",
        "    running_val_loss = 0.0\n",
        "    with torch.no_grad():\n",
        "        for inputs, targets in tqdm(val_loader, desc=f\"Epoch {epoch+1}/{NUM_EPOCHS} [Validation]\"):\n",
        "            inputs, targets = inputs.to(device), targets.to(device)\n",
        "\n",
        "            outputs = model(inputs)\n",
        "\n",
        "            outputs_flat = outputs.view(-1, VOCAB_SIZE)\n",
        "            targets_flat = targets.view(-1)\n",
        "\n",
        "            loss = criterion(outputs_flat, targets_flat)\n",
        "            running_val_loss += loss.item()\n",
        "\n",
        "    avg_val_loss = running_val_loss / len(val_loader)\n",
        "    val_losses.append(avg_val_loss)\n",
        "\n",
        "    print(f\"Epoch [{epoch+1}/{NUM_EPOCHS}], Train Loss: {avg_train_loss:.4f}, Val Loss: {avg_val_loss:.4f}\")\n",
        "\n",
        "print(\"--- Finished Training ---\")"
      ]
    },
    {
      "cell_type": "markdown",
      "id": "7484e515",
      "metadata": {
        "id": "7484e515"
      },
      "source": [
        "### Plot losses"
      ]
    },
    {
      "cell_type": "code",
      "execution_count": 31,
      "id": "7824a49a",
      "metadata": {
        "colab": {
          "base_uri": "https://localhost:8080/",
          "height": 570
        },
        "id": "7824a49a",
        "outputId": "9aa345df-6803-40e4-d5b8-8ac2a8c56207"
      },
      "outputs": [
        {
          "data": {
            "image/png": "[encoded data removed]",
            "text/plain": [
              "<Figure size 1000x600 with 1 Axes>"
            ]
          },
          "metadata": {},
          "output_type": "display_data"
        }
      ],
      "source": [
        "def plot_losses(train_losses, val_losses):\n",
        "    \"\"\"\n",
        "    Plots the training and validation loss curves.\n",
        "    \"\"\"\n",
        "    # Create a new figure\n",
        "    plt.figure(figsize=(10, 6))\n",
        "\n",
        "    # Plot training and validation loss\n",
        "    plt.plot(train_losses, label='Training Loss', color='blue')\n",
        "    plt.plot(val_losses, label='Validation Loss', color='red')\n",
        "\n",
        "    # Add titles and labels\n",
        "    plt.title('Training and Validation Loss Over Epochs', fontsize=16)\n",
        "    plt.xlabel('Epochs', fontsize=12)\n",
        "    plt.ylabel('Loss', fontsize=12)\n",
        "\n",
        "    # Add a legend to identify the lines\n",
        "    plt.legend()\n",
        "\n",
        "    # Add a grid for better readability\n",
        "    plt.grid(True)\n",
        "\n",
        "    # Display the plot\n",
        "    plt.show()\n",
        "\n",
        "plot_losses(train_losses, val_losses)"
      ]
    },
    {
      "cell_type": "markdown",
      "id": "c1819614",
      "metadata": {
        "id": "c1819614"
      },
      "source": [
        "# Step 4: Model evaluation"
      ]
    },
    {
      "cell_type": "code",
      "execution_count": null,
      "id": "4121da64",
      "metadata": {},
      "outputs": [
        {
          "name": "stdout",
          "output_type": "stream",
          "text": [
            "Created a test DataLoader with 782 batches.\n",
            "\\n--- Final Model Evaluation on Test Set ---\n",
            "Test Perplexity: 189.93\n",
            "------------------------------------------\n"
          ]
        }
      ],
      "source": [
        "# Create a Dataset and DataLoader for the test set\n",
        "test_dataset = LanguageModelDataset(test_set, vocab, max_len=256)\n",
        "test_loader = DataLoader(\n",
        "    dataset=test_dataset,\n",
        "    batch_size=BATCH_SIZE,\n",
        "    shuffle=False,\n",
        "    collate_fn=PadCollate(pad_idx=vocab.stoi[\"<pad>\"])\n",
        ")\n",
        "\n",
        "print(f\"Created a test DataLoader with {len(test_loader)} batches.\")\n",
        "\n",
        "# Evaluate the trained model on the test loader\n",
        "\n",
        "def evaluate_perplexity(model, data_loader, criterion, device):\n",
        "    model.eval()\n",
        "    total_loss = 0.0\n",
        "    total_tokens = 0\n",
        "    with torch.no_grad():\n",
        "        for inputs, targets in data_loader:\n",
        "            inputs, targets = inputs.to(device), targets.to(device)\n",
        "            outputs = model(inputs)\n",
        "            loss = criterion(outputs.view(-1, outputs.size(-1)), targets.view(-1))\n",
        "            total_loss += loss.item() * targets.numel()\n",
        "            total_tokens += targets.numel()\n",
        "    avg_loss = total_loss / total_tokens\n",
        "    perplexity = math.exp(avg_loss)\n",
        "    return perplexity\n",
        "criterion = nn.CrossEntropyLoss(ignore_index=vocab.stoi['<pad>'])\n",
        "test_perplexity = evaluate_perplexity(loaded_model, test_loader, criterion, device)\n",
        "\n",
        "print(f\"\\n--- Final Model Evaluation on Test Set ---\")\n",
        "print(f\"Test Perplexity: {test_perplexity:.2f}\")\n",
        "print(\"------------------------------------------\")"
      ]
    },
    {
      "cell_type": "markdown",
      "id": "0Hglkx1FWcCS",
      "metadata": {
        "id": "0Hglkx1FWcCS"
      },
      "source": [
        "## Save the model for task 2"
      ]
    },
    {
      "cell_type": "code",
      "execution_count": 33,
      "id": "0ITD6F3OWiPG",
      "metadata": {
        "colab": {
          "base_uri": "https://localhost:8080/"
        },
        "id": "0ITD6F3OWiPG",
        "outputId": "129c8463-7e75-48db-ef7c-50c8a0a774d9"
      },
      "outputs": [
        {
          "name": "stdout",
          "output_type": "stream",
          "text": [
            "Model saved to language_model.pth\n"
          ]
        }
      ],
      "source": [
        "# Define a path to save the model\n",
        "MODEL_SAVE_PATH = 'language_model.pth'\n",
        "\n",
        "# Save the model's state dictionary\n",
        "torch.save(model.state_dict(), MODEL_SAVE_PATH)\n",
        "\n",
        "print(f\"Model saved to {MODEL_SAVE_PATH}\")"
      ]
    }
  ],
  "metadata": {
    "accelerator": "GPU",
    "colab": {
      "gpuType": "T4",
      "provenance": []
    },
    "kernelspec": {
      "display_name": "NLP",
      "language": "python",
      "name": "python3"
    },
    "language_info": {
      "codemirror_mode": {
        "name": "ipython",
        "version": 3
      },
      "file_extension": ".py",
      "mimetype": "text/x-python",
      "name": "python",
      "nbconvert_exporter": "python",
      "pygments_lexer": "ipython3",
      "version": "undefined.undefined.undefined"
    }
  },
  "nbformat": 4,
  "nbformat_minor": 5
}
